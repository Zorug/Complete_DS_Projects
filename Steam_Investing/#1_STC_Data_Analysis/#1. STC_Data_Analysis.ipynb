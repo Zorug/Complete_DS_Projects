{
 "cells": [
  {
   "cell_type": "markdown",
   "id": "f83b4c7e-7151-473b-9808-debccb5e6f8a",
   "metadata": {},
   "source": [
    "# Importing libraries and data"
   ]
  },
  {
   "cell_type": "code",
   "execution_count": 1,
   "id": "5fc621bf-9082-4703-bb65-fe1955354eaa",
   "metadata": {},
   "outputs": [],
   "source": [
    "import seaborn as sns\n",
    "import numpy as np\n",
    "import matplotlib.pyplot as plt\n",
    "import pandas as pd"
   ]
  },
  {
   "cell_type": "code",
   "execution_count": 2,
   "id": "46ed86e4-6df2-4116-976e-f3222600d075",
   "metadata": {},
   "outputs": [
    {
     "data": {
      "text/plain": [
       "10587"
      ]
     },
     "execution_count": 2,
     "metadata": {},
     "output_type": "execute_result"
    }
   ],
   "source": [
    "csv_source = 'STC_set_data.csv'\n",
    "#csv_source = 'https://raw.githubusercontent.com/Zorug/Steam-Stuff/master/STC_set_data.csv'\n",
    "data_csv = pd.read_csv(csv_source)\n",
    "qnt_data = data_csv.shape[0]\n",
    "qnt_data"
   ]
  },
  {
   "cell_type": "code",
   "execution_count": 3,
   "id": "31796958-21d2-4da5-87b4-84bca9ed42fc",
   "metadata": {},
   "outputs": [
    {
     "data": {
      "text/html": [
       "<div>\n",
       "<style scoped>\n",
       "    .dataframe tbody tr th:only-of-type {\n",
       "        vertical-align: middle;\n",
       "    }\n",
       "\n",
       "    .dataframe tbody tr th {\n",
       "        vertical-align: top;\n",
       "    }\n",
       "\n",
       "    .dataframe thead th {\n",
       "        text-align: right;\n",
       "    }\n",
       "</style>\n",
       "<table border=\"1\" class=\"dataframe\">\n",
       "  <thead>\n",
       "    <tr style=\"text-align: right;\">\n",
       "      <th></th>\n",
       "      <th>Game</th>\n",
       "      <th># Owned</th>\n",
       "      <th># Unique</th>\n",
       "      <th># Cards</th>\n",
       "      <th>Badge Lvl</th>\n",
       "      <th>Set Price</th>\n",
       "      <th>Price Diff</th>\n",
       "      <th>Card Avg</th>\n",
       "      <th>Booster Avg</th>\n",
       "      <th>Booster %</th>\n",
       "      <th>Emote Avg</th>\n",
       "      <th>BG Avg</th>\n",
       "      <th>Avg Qty</th>\n",
       "      <th>Discount</th>\n",
       "      <th>Added</th>\n",
       "      <th>AppId</th>\n",
       "    </tr>\n",
       "  </thead>\n",
       "  <tbody>\n",
       "    <tr>\n",
       "      <th>7869</th>\n",
       "      <td>DARTHY</td>\n",
       "      <td>0</td>\n",
       "      <td>0</td>\n",
       "      <td>5</td>\n",
       "      <td>0</td>\n",
       "      <td>0.36</td>\n",
       "      <td>0.36</td>\n",
       "      <td>0.07</td>\n",
       "      <td>0.07</td>\n",
       "      <td>0.0</td>\n",
       "      <td>0.03</td>\n",
       "      <td>0.03</td>\n",
       "      <td>27</td>\n",
       "      <td>0.18</td>\n",
       "      <td>2015-12-06</td>\n",
       "      <td>404850</td>\n",
       "    </tr>\n",
       "    <tr>\n",
       "      <th>5218</th>\n",
       "      <td>Disgaea 2 PC</td>\n",
       "      <td>0</td>\n",
       "      <td>0</td>\n",
       "      <td>8</td>\n",
       "      <td>0</td>\n",
       "      <td>0.69</td>\n",
       "      <td>0.69</td>\n",
       "      <td>0.09</td>\n",
       "      <td>0.13</td>\n",
       "      <td>-44.4</td>\n",
       "      <td>0.06</td>\n",
       "      <td>0.14</td>\n",
       "      <td>155</td>\n",
       "      <td>0.31</td>\n",
       "      <td>2017-01-30</td>\n",
       "      <td>495280</td>\n",
       "    </tr>\n",
       "  </tbody>\n",
       "</table>\n",
       "</div>"
      ],
      "text/plain": [
       "              Game  # Owned  # Unique  # Cards  Badge Lvl Set Price  \\\n",
       "7869        DARTHY        0         0        5          0      0.36   \n",
       "5218  Disgaea 2 PC        0         0        8          0      0.69   \n",
       "\n",
       "     Price Diff  Card Avg  Booster Avg Booster %  Emote Avg  BG Avg  Avg Qty  \\\n",
       "7869       0.36      0.07         0.07       0.0       0.03    0.03       27   \n",
       "5218       0.69      0.09         0.13     -44.4       0.06    0.14      155   \n",
       "\n",
       "      Discount       Added   AppId  \n",
       "7869      0.18  2015-12-06  404850  \n",
       "5218      0.31  2017-01-30  495280  "
      ]
     },
     "execution_count": 3,
     "metadata": {},
     "output_type": "execute_result"
    }
   ],
   "source": [
    "data_csv.sample(2)"
   ]
  },
  {
   "cell_type": "markdown",
   "id": "9db9a2c9-7f6a-4123-af05-484b13765754",
   "metadata": {},
   "source": [
    "# Organizing DataSet"
   ]
  },
  {
   "cell_type": "markdown",
   "id": "afde5201-a281-45a7-b1c3-c78442baf0dc",
   "metadata": {},
   "source": [
    "## Cleaning Useless columns\n",
    "This columns are useless for our analysis."
   ]
  },
  {
   "cell_type": "code",
   "execution_count": 4,
   "id": "25da989e-abba-4ec5-ae7e-0a48e00ef633",
   "metadata": {},
   "outputs": [
    {
     "data": {
      "text/html": [
       "<div>\n",
       "<style scoped>\n",
       "    .dataframe tbody tr th:only-of-type {\n",
       "        vertical-align: middle;\n",
       "    }\n",
       "\n",
       "    .dataframe tbody tr th {\n",
       "        vertical-align: top;\n",
       "    }\n",
       "\n",
       "    .dataframe thead th {\n",
       "        text-align: right;\n",
       "    }\n",
       "</style>\n",
       "<table border=\"1\" class=\"dataframe\">\n",
       "  <thead>\n",
       "    <tr style=\"text-align: right;\">\n",
       "      <th></th>\n",
       "      <th>Game</th>\n",
       "      <th># Cards</th>\n",
       "      <th>Set Price</th>\n",
       "      <th>Price Diff</th>\n",
       "      <th>Card Avg</th>\n",
       "      <th>Booster Avg</th>\n",
       "      <th>Booster %</th>\n",
       "      <th>Avg Qty</th>\n",
       "      <th>AppId</th>\n",
       "    </tr>\n",
       "  </thead>\n",
       "  <tbody>\n",
       "    <tr>\n",
       "      <th>1124</th>\n",
       "      <td>Lawless Lands</td>\n",
       "      <td>6</td>\n",
       "      <td>0.38</td>\n",
       "      <td>0.38</td>\n",
       "      <td>0.06</td>\n",
       "      <td>0.08</td>\n",
       "      <td>-33.3</td>\n",
       "      <td>20</td>\n",
       "      <td>880130</td>\n",
       "    </tr>\n",
       "    <tr>\n",
       "      <th>5904</th>\n",
       "      <td>Underground Keeper</td>\n",
       "      <td>6</td>\n",
       "      <td>0.44</td>\n",
       "      <td>0.44</td>\n",
       "      <td>0.07</td>\n",
       "      <td>0.31</td>\n",
       "      <td>-342.9</td>\n",
       "      <td>17</td>\n",
       "      <td>497040</td>\n",
       "    </tr>\n",
       "  </tbody>\n",
       "</table>\n",
       "</div>"
      ],
      "text/plain": [
       "                    Game  # Cards Set Price Price Diff  Card Avg  Booster Avg  \\\n",
       "1124       Lawless Lands        6      0.38       0.38      0.06         0.08   \n",
       "5904  Underground Keeper        6      0.44       0.44      0.07         0.31   \n",
       "\n",
       "     Booster %  Avg Qty   AppId  \n",
       "1124     -33.3       20  880130  \n",
       "5904    -342.9       17  497040  "
      ]
     },
     "execution_count": 4,
     "metadata": {},
     "output_type": "execute_result"
    }
   ],
   "source": [
    "data_csv = data_csv.drop(['# Owned', '# Unique', 'Badge Lvl','Emote Avg', 'BG Avg', 'Discount', 'Added'], axis=1)\n",
    "data_csv.sample(2)"
   ]
  },
  {
   "cell_type": "markdown",
   "id": "025554d6-1b26-4655-8316-3922988b31e8",
   "metadata": {},
   "source": [
    "## Type formatting\n",
    "In here is important to change the type of the variables to work with it without errors."
   ]
  },
  {
   "cell_type": "code",
   "execution_count": 5,
   "id": "13a391f5-f0c3-4d9d-8e00-fb11cbce08b3",
   "metadata": {},
   "outputs": [
    {
     "data": {
      "text/html": [
       "<div>\n",
       "<style scoped>\n",
       "    .dataframe tbody tr th:only-of-type {\n",
       "        vertical-align: middle;\n",
       "    }\n",
       "\n",
       "    .dataframe tbody tr th {\n",
       "        vertical-align: top;\n",
       "    }\n",
       "\n",
       "    .dataframe thead th {\n",
       "        text-align: right;\n",
       "    }\n",
       "</style>\n",
       "<table border=\"1\" class=\"dataframe\">\n",
       "  <thead>\n",
       "    <tr style=\"text-align: right;\">\n",
       "      <th></th>\n",
       "      <th>Game</th>\n",
       "      <th># Cards</th>\n",
       "      <th>Set Price</th>\n",
       "      <th>Price Diff</th>\n",
       "      <th>Card Avg</th>\n",
       "      <th>Booster Avg</th>\n",
       "      <th>Booster %</th>\n",
       "      <th>Avg Qty</th>\n",
       "      <th>AppId</th>\n",
       "    </tr>\n",
       "  </thead>\n",
       "  <tbody>\n",
       "    <tr>\n",
       "      <th>0</th>\n",
       "      <td>object</td>\n",
       "      <td>int64</td>\n",
       "      <td>object</td>\n",
       "      <td>object</td>\n",
       "      <td>float64</td>\n",
       "      <td>float64</td>\n",
       "      <td>object</td>\n",
       "      <td>int64</td>\n",
       "      <td>int64</td>\n",
       "    </tr>\n",
       "  </tbody>\n",
       "</table>\n",
       "</div>"
      ],
      "text/plain": [
       "     Game # Cards Set Price Price Diff Card Avg Booster Avg Booster % Avg Qty  \\\n",
       "0  object   int64    object     object  float64     float64    object   int64   \n",
       "\n",
       "   AppId  \n",
       "0  int64  "
      ]
     },
     "execution_count": 5,
     "metadata": {},
     "output_type": "execute_result"
    }
   ],
   "source": [
    "pd.DataFrame(data_csv.dtypes).T"
   ]
  },
  {
   "cell_type": "code",
   "execution_count": 6,
   "id": "a0e2954f-3b25-4d3b-bc7f-618b0d820ac7",
   "metadata": {},
   "outputs": [
    {
     "data": {
      "text/html": [
       "<div>\n",
       "<style scoped>\n",
       "    .dataframe tbody tr th:only-of-type {\n",
       "        vertical-align: middle;\n",
       "    }\n",
       "\n",
       "    .dataframe tbody tr th {\n",
       "        vertical-align: top;\n",
       "    }\n",
       "\n",
       "    .dataframe thead th {\n",
       "        text-align: right;\n",
       "    }\n",
       "</style>\n",
       "<table border=\"1\" class=\"dataframe\">\n",
       "  <thead>\n",
       "    <tr style=\"text-align: right;\">\n",
       "      <th></th>\n",
       "      <th>Game</th>\n",
       "      <th># Cards</th>\n",
       "      <th>Set Price</th>\n",
       "      <th>Price Diff</th>\n",
       "      <th>Card Avg</th>\n",
       "      <th>Booster Avg</th>\n",
       "      <th>Booster %</th>\n",
       "      <th>Avg Qty</th>\n",
       "      <th>AppId</th>\n",
       "    </tr>\n",
       "  </thead>\n",
       "  <tbody>\n",
       "    <tr>\n",
       "      <th>0</th>\n",
       "      <td>object</td>\n",
       "      <td>int64</td>\n",
       "      <td>float64</td>\n",
       "      <td>float64</td>\n",
       "      <td>float64</td>\n",
       "      <td>float64</td>\n",
       "      <td>float64</td>\n",
       "      <td>int64</td>\n",
       "      <td>object</td>\n",
       "    </tr>\n",
       "  </tbody>\n",
       "</table>\n",
       "</div>"
      ],
      "text/plain": [
       "     Game # Cards Set Price Price Diff Card Avg Booster Avg Booster % Avg Qty  \\\n",
       "0  object   int64   float64    float64  float64     float64   float64   int64   \n",
       "\n",
       "    AppId  \n",
       "0  object  "
      ]
     },
     "execution_count": 6,
     "metadata": {},
     "output_type": "execute_result"
    }
   ],
   "source": [
    "def remove_missing_comma(byword): # here we are avoiding a conversion error\n",
    "    byword = byword.replace(',','')\n",
    "    return byword\n",
    "\n",
    "to_float = ['Set Price', 'Price Diff', 'Booster %']\n",
    "for column in data_csv[to_float]:\n",
    "    data_csv[column] = data_csv[column].apply(remove_missing_comma)\n",
    "\n",
    "data_csv[to_float] = data_csv[to_float].astype('float64')\n",
    "data_csv['AppId'] = data_csv['AppId'].astype('str')\n",
    "\n",
    "pd.DataFrame(data_csv.dtypes).T"
   ]
  },
  {
   "cell_type": "markdown",
   "id": "e4c64c14-c2ea-4f9c-8f1c-a09a33b38c64",
   "metadata": {},
   "source": [
    "## Verify Missing Values"
   ]
  },
  {
   "cell_type": "code",
   "execution_count": 7,
   "id": "9670c266-f3a0-4100-9cc3-3c12e7a334b5",
   "metadata": {},
   "outputs": [
    {
     "data": {
      "text/html": [
       "<div>\n",
       "<style scoped>\n",
       "    .dataframe tbody tr th:only-of-type {\n",
       "        vertical-align: middle;\n",
       "    }\n",
       "\n",
       "    .dataframe tbody tr th {\n",
       "        vertical-align: top;\n",
       "    }\n",
       "\n",
       "    .dataframe thead th {\n",
       "        text-align: right;\n",
       "    }\n",
       "</style>\n",
       "<table border=\"1\" class=\"dataframe\">\n",
       "  <thead>\n",
       "    <tr style=\"text-align: right;\">\n",
       "      <th></th>\n",
       "      <th>Game</th>\n",
       "      <th># Cards</th>\n",
       "      <th>Set Price</th>\n",
       "      <th>Price Diff</th>\n",
       "      <th>Card Avg</th>\n",
       "      <th>Booster Avg</th>\n",
       "      <th>Booster %</th>\n",
       "      <th>Avg Qty</th>\n",
       "      <th>AppId</th>\n",
       "    </tr>\n",
       "  </thead>\n",
       "  <tbody>\n",
       "    <tr>\n",
       "      <th>0</th>\n",
       "      <td>1</td>\n",
       "      <td>0</td>\n",
       "      <td>0</td>\n",
       "      <td>0</td>\n",
       "      <td>0</td>\n",
       "      <td>956</td>\n",
       "      <td>0</td>\n",
       "      <td>0</td>\n",
       "      <td>0</td>\n",
       "    </tr>\n",
       "  </tbody>\n",
       "</table>\n",
       "</div>"
      ],
      "text/plain": [
       "   Game  # Cards  Set Price  Price Diff  Card Avg  Booster Avg  Booster %  \\\n",
       "0     1        0          0           0         0          956          0   \n",
       "\n",
       "   Avg Qty  AppId  \n",
       "0        0      0  "
      ]
     },
     "execution_count": 7,
     "metadata": {},
     "output_type": "execute_result"
    }
   ],
   "source": [
    "pd.DataFrame(data_csv.isna().sum()).T"
   ]
  },
  {
   "cell_type": "markdown",
   "id": "34647ead-98d2-4444-a497-b9037fe6159d",
   "metadata": {},
   "source": [
    "### Working in the missing Game name"
   ]
  },
  {
   "cell_type": "code",
   "execution_count": 8,
   "id": "e11037ff-ec6f-4d82-8e93-223dfdf8b131",
   "metadata": {},
   "outputs": [
    {
     "data": {
      "text/html": [
       "<div>\n",
       "<style scoped>\n",
       "    .dataframe tbody tr th:only-of-type {\n",
       "        vertical-align: middle;\n",
       "    }\n",
       "\n",
       "    .dataframe tbody tr th {\n",
       "        vertical-align: top;\n",
       "    }\n",
       "\n",
       "    .dataframe thead th {\n",
       "        text-align: right;\n",
       "    }\n",
       "</style>\n",
       "<table border=\"1\" class=\"dataframe\">\n",
       "  <thead>\n",
       "    <tr style=\"text-align: right;\">\n",
       "      <th></th>\n",
       "      <th>Game</th>\n",
       "      <th># Cards</th>\n",
       "      <th>Set Price</th>\n",
       "      <th>Price Diff</th>\n",
       "      <th>Card Avg</th>\n",
       "      <th>Booster Avg</th>\n",
       "      <th>Booster %</th>\n",
       "      <th>Avg Qty</th>\n",
       "      <th>AppId</th>\n",
       "    </tr>\n",
       "  </thead>\n",
       "  <tbody>\n",
       "    <tr>\n",
       "      <th>4677</th>\n",
       "      <td>NaN</td>\n",
       "      <td>7</td>\n",
       "      <td>1.2</td>\n",
       "      <td>1.2</td>\n",
       "      <td>0.17</td>\n",
       "      <td>NaN</td>\n",
       "      <td>0.0</td>\n",
       "      <td>27</td>\n",
       "      <td>562280</td>\n",
       "    </tr>\n",
       "  </tbody>\n",
       "</table>\n",
       "</div>"
      ],
      "text/plain": [
       "     Game  # Cards  Set Price  Price Diff  Card Avg  Booster Avg  Booster %  \\\n",
       "4677  NaN        7        1.2         1.2      0.17          NaN        0.0   \n",
       "\n",
       "      Avg Qty   AppId  \n",
       "4677       27  562280  "
      ]
     },
     "execution_count": 8,
     "metadata": {},
     "output_type": "execute_result"
    }
   ],
   "source": [
    "data_csv[data_csv.Game.isna() == True] # missing game name"
   ]
  },
  {
   "cell_type": "markdown",
   "id": "a89cc410-1c20-492f-8f2a-49c5f39e7c46",
   "metadata": {},
   "source": [
    "Here we have a missing Game name, but we can find it by the AppId, adding at the end of this page: <p>https://www.steamcardexchange.net/index.php?gamepage-appid-562280"
   ]
  },
  {
   "cell_type": "markdown",
   "id": "241f4c92-ddd2-4559-b145-82b4d74cc8c0",
   "metadata": {},
   "source": [
    "The game name is __\\</reality>__, so we need to substitute it."
   ]
  },
  {
   "cell_type": "code",
   "execution_count": 9,
   "id": "9c214014-2311-47e5-8cbd-3f0289265944",
   "metadata": {},
   "outputs": [
    {
     "data": {
      "text/html": [
       "<div>\n",
       "<style scoped>\n",
       "    .dataframe tbody tr th:only-of-type {\n",
       "        vertical-align: middle;\n",
       "    }\n",
       "\n",
       "    .dataframe tbody tr th {\n",
       "        vertical-align: top;\n",
       "    }\n",
       "\n",
       "    .dataframe thead th {\n",
       "        text-align: right;\n",
       "    }\n",
       "</style>\n",
       "<table border=\"1\" class=\"dataframe\">\n",
       "  <thead>\n",
       "    <tr style=\"text-align: right;\">\n",
       "      <th></th>\n",
       "      <th>Game</th>\n",
       "      <th># Cards</th>\n",
       "      <th>Set Price</th>\n",
       "      <th>Price Diff</th>\n",
       "      <th>Card Avg</th>\n",
       "      <th>Booster Avg</th>\n",
       "      <th>Booster %</th>\n",
       "      <th>Avg Qty</th>\n",
       "      <th>AppId</th>\n",
       "    </tr>\n",
       "  </thead>\n",
       "  <tbody>\n",
       "    <tr>\n",
       "      <th>4677</th>\n",
       "      <td>&lt;/reality&gt;</td>\n",
       "      <td>7</td>\n",
       "      <td>1.2</td>\n",
       "      <td>1.2</td>\n",
       "      <td>0.17</td>\n",
       "      <td>NaN</td>\n",
       "      <td>0.0</td>\n",
       "      <td>27</td>\n",
       "      <td>562280</td>\n",
       "    </tr>\n",
       "  </tbody>\n",
       "</table>\n",
       "</div>"
      ],
      "text/plain": [
       "            Game # Cards Set Price Price Diff Card Avg Booster Avg Booster %  \\\n",
       "4677  </reality>       7       1.2        1.2     0.17         NaN       0.0   \n",
       "\n",
       "     Avg Qty   AppId  \n",
       "4677      27  562280  "
      ]
     },
     "execution_count": 9,
     "metadata": {},
     "output_type": "execute_result"
    }
   ],
   "source": [
    "data_csv.at[4677,'Game'] = '</reality>'\n",
    "pd.DataFrame(data_csv.loc[4677]).T"
   ]
  },
  {
   "cell_type": "code",
   "execution_count": 10,
   "id": "778e74d5-1a61-4e6e-a4f4-f4a9d0b615b5",
   "metadata": {},
   "outputs": [
    {
     "data": {
      "text/html": [
       "<div>\n",
       "<style scoped>\n",
       "    .dataframe tbody tr th:only-of-type {\n",
       "        vertical-align: middle;\n",
       "    }\n",
       "\n",
       "    .dataframe tbody tr th {\n",
       "        vertical-align: top;\n",
       "    }\n",
       "\n",
       "    .dataframe thead th {\n",
       "        text-align: right;\n",
       "    }\n",
       "</style>\n",
       "<table border=\"1\" class=\"dataframe\">\n",
       "  <thead>\n",
       "    <tr style=\"text-align: right;\">\n",
       "      <th></th>\n",
       "      <th>Game</th>\n",
       "      <th># Cards</th>\n",
       "      <th>Set Price</th>\n",
       "      <th>Price Diff</th>\n",
       "      <th>Card Avg</th>\n",
       "      <th>Booster Avg</th>\n",
       "      <th>Booster %</th>\n",
       "      <th>Avg Qty</th>\n",
       "      <th>AppId</th>\n",
       "    </tr>\n",
       "  </thead>\n",
       "  <tbody>\n",
       "    <tr>\n",
       "      <th>0</th>\n",
       "      <td>0</td>\n",
       "      <td>0</td>\n",
       "      <td>0</td>\n",
       "      <td>0</td>\n",
       "      <td>0</td>\n",
       "      <td>956</td>\n",
       "      <td>0</td>\n",
       "      <td>0</td>\n",
       "      <td>0</td>\n",
       "    </tr>\n",
       "  </tbody>\n",
       "</table>\n",
       "</div>"
      ],
      "text/plain": [
       "   Game  # Cards  Set Price  Price Diff  Card Avg  Booster Avg  Booster %  \\\n",
       "0     0        0          0           0         0          956          0   \n",
       "\n",
       "   Avg Qty  AppId  \n",
       "0        0      0  "
      ]
     },
     "execution_count": 10,
     "metadata": {},
     "output_type": "execute_result"
    }
   ],
   "source": [
    "pd.DataFrame(data_csv.isna().sum()).T"
   ]
  },
  {
   "cell_type": "markdown",
   "id": "8d82a222-823d-4c58-9cd6-db6e4c72b6e3",
   "metadata": {},
   "source": [
    "### Working in the missing Booster Avg data"
   ]
  },
  {
   "cell_type": "markdown",
   "id": "85eb017b-b31b-4528-a7b6-b50b54044950",
   "metadata": {},
   "source": [
    "_Booster Avg: The average price of a card from the set's booster;_ It's possible that they don't have any booster at the market."
   ]
  },
  {
   "cell_type": "code",
   "execution_count": 11,
   "id": "bfa6209d-ed33-4d35-af7c-5d682755492f",
   "metadata": {},
   "outputs": [
    {
     "name": "stdout",
     "output_type": "stream",
     "text": [
      "the percentage of missing 'Booster Avg' values is 9.03%\n"
     ]
    }
   ],
   "source": [
    "print(f\"the percentage of missing \\'Booster Avg\\' values is {round((956/qnt_data)*100,3)}%\")"
   ]
  },
  {
   "cell_type": "markdown",
   "id": "11ff5130-1bc2-49aa-9379-5c4465477961",
   "metadata": {},
   "source": [
    "In any case, is better to maker a second dataframe dropping this missing values."
   ]
  },
  {
   "cell_type": "code",
   "execution_count": 12,
   "id": "f0d877bb-6a31-43ce-8d9d-0b2a6386b6cb",
   "metadata": {},
   "outputs": [
    {
     "data": {
      "text/html": [
       "<div>\n",
       "<style scoped>\n",
       "    .dataframe tbody tr th:only-of-type {\n",
       "        vertical-align: middle;\n",
       "    }\n",
       "\n",
       "    .dataframe tbody tr th {\n",
       "        vertical-align: top;\n",
       "    }\n",
       "\n",
       "    .dataframe thead th {\n",
       "        text-align: right;\n",
       "    }\n",
       "</style>\n",
       "<table border=\"1\" class=\"dataframe\">\n",
       "  <thead>\n",
       "    <tr style=\"text-align: right;\">\n",
       "      <th></th>\n",
       "      <th>Game</th>\n",
       "      <th># Cards</th>\n",
       "      <th>Set Price</th>\n",
       "      <th>Price Diff</th>\n",
       "      <th>Card Avg</th>\n",
       "      <th>Booster Avg</th>\n",
       "      <th>Booster %</th>\n",
       "      <th>Avg Qty</th>\n",
       "      <th>AppId</th>\n",
       "    </tr>\n",
       "  </thead>\n",
       "  <tbody>\n",
       "    <tr>\n",
       "      <th>0</th>\n",
       "      <td>0</td>\n",
       "      <td>0</td>\n",
       "      <td>0</td>\n",
       "      <td>0</td>\n",
       "      <td>0</td>\n",
       "      <td>0</td>\n",
       "      <td>0</td>\n",
       "      <td>0</td>\n",
       "      <td>0</td>\n",
       "    </tr>\n",
       "  </tbody>\n",
       "</table>\n",
       "</div>"
      ],
      "text/plain": [
       "   Game  # Cards  Set Price  Price Diff  Card Avg  Booster Avg  Booster %  \\\n",
       "0     0        0          0           0         0            0          0   \n",
       "\n",
       "   Avg Qty  AppId  \n",
       "0        0      0  "
      ]
     },
     "execution_count": 12,
     "metadata": {},
     "output_type": "execute_result"
    }
   ],
   "source": [
    "clean_data_csv = data_csv.dropna(axis = 0, how ='any')\n",
    "pd.DataFrame(clean_data_csv.isna().sum()).T"
   ]
  },
  {
   "cell_type": "markdown",
   "id": "c6d8140c-3365-43c9-8d36-a5dbd9ab81b8",
   "metadata": {},
   "source": [
    "## Little look at 'Booster %' column"
   ]
  },
  {
   "cell_type": "code",
   "execution_count": 13,
   "id": "f170faff-e0b6-4169-8dbc-28785f7e35ac",
   "metadata": {},
   "outputs": [
    {
     "data": {
      "text/html": [
       "<div>\n",
       "<style scoped>\n",
       "    .dataframe tbody tr th:only-of-type {\n",
       "        vertical-align: middle;\n",
       "    }\n",
       "\n",
       "    .dataframe tbody tr th {\n",
       "        vertical-align: top;\n",
       "    }\n",
       "\n",
       "    .dataframe thead th {\n",
       "        text-align: right;\n",
       "    }\n",
       "</style>\n",
       "<table border=\"1\" class=\"dataframe\">\n",
       "  <thead>\n",
       "    <tr style=\"text-align: right;\">\n",
       "      <th></th>\n",
       "      <th>Game</th>\n",
       "      <th># Cards</th>\n",
       "      <th>Set Price</th>\n",
       "      <th>Price Diff</th>\n",
       "      <th>Card Avg</th>\n",
       "      <th>Booster Avg</th>\n",
       "      <th>Booster %</th>\n",
       "      <th>Avg Qty</th>\n",
       "      <th>AppId</th>\n",
       "    </tr>\n",
       "  </thead>\n",
       "  <tbody>\n",
       "    <tr>\n",
       "      <th>8314</th>\n",
       "      <td>Shower With Your Dad Simulator 2015: Do You St...</td>\n",
       "      <td>6</td>\n",
       "      <td>0.41</td>\n",
       "      <td>0.41</td>\n",
       "      <td>0.07</td>\n",
       "      <td>0.05</td>\n",
       "      <td>28.6</td>\n",
       "      <td>394</td>\n",
       "      <td>359050</td>\n",
       "    </tr>\n",
       "    <tr>\n",
       "      <th>5172</th>\n",
       "      <td>Wacky Spores: The Chase</td>\n",
       "      <td>10</td>\n",
       "      <td>0.66</td>\n",
       "      <td>0.66</td>\n",
       "      <td>0.07</td>\n",
       "      <td>0.28</td>\n",
       "      <td>-300.0</td>\n",
       "      <td>20</td>\n",
       "      <td>582530</td>\n",
       "    </tr>\n",
       "  </tbody>\n",
       "</table>\n",
       "</div>"
      ],
      "text/plain": [
       "                                                   Game  # Cards  Set Price  \\\n",
       "8314  Shower With Your Dad Simulator 2015: Do You St...        6       0.41   \n",
       "5172                            Wacky Spores: The Chase       10       0.66   \n",
       "\n",
       "      Price Diff  Card Avg  Booster Avg  Booster %  Avg Qty   AppId  \n",
       "8314        0.41      0.07         0.05       28.6      394  359050  \n",
       "5172        0.66      0.07         0.28     -300.0       20  582530  "
      ]
     },
     "execution_count": 13,
     "metadata": {},
     "output_type": "execute_result"
    }
   ],
   "source": [
    "clean_data_csv.sample(2)"
   ]
  },
  {
   "cell_type": "markdown",
   "id": "125b7e80-2ff7-4fce-8ab9-448eb38a785e",
   "metadata": {},
   "source": [
    "Let's make an exploratory dataframe for exploration than"
   ]
  },
  {
   "cell_type": "code",
   "execution_count": 14,
   "id": "7f8e003e-366e-405a-929d-eeb6a92bf8a3",
   "metadata": {},
   "outputs": [
    {
     "data": {
      "text/html": [
       "<div>\n",
       "<style scoped>\n",
       "    .dataframe tbody tr th:only-of-type {\n",
       "        vertical-align: middle;\n",
       "    }\n",
       "\n",
       "    .dataframe tbody tr th {\n",
       "        vertical-align: top;\n",
       "    }\n",
       "\n",
       "    .dataframe thead th {\n",
       "        text-align: right;\n",
       "    }\n",
       "</style>\n",
       "<table border=\"1\" class=\"dataframe\">\n",
       "  <thead>\n",
       "    <tr style=\"text-align: right;\">\n",
       "      <th></th>\n",
       "      <th>Card Avg</th>\n",
       "      <th>Booster Avg</th>\n",
       "      <th>Booster %</th>\n",
       "      <th>Bstr_Prp</th>\n",
       "      <th>B/C</th>\n",
       "    </tr>\n",
       "  </thead>\n",
       "  <tbody>\n",
       "    <tr>\n",
       "      <th>4552</th>\n",
       "      <td>0.05</td>\n",
       "      <td>0.04</td>\n",
       "      <td>20.0</td>\n",
       "      <td>0.20</td>\n",
       "      <td>0.80</td>\n",
       "    </tr>\n",
       "    <tr>\n",
       "      <th>2511</th>\n",
       "      <td>0.04</td>\n",
       "      <td>0.03</td>\n",
       "      <td>25.0</td>\n",
       "      <td>0.25</td>\n",
       "      <td>0.75</td>\n",
       "    </tr>\n",
       "  </tbody>\n",
       "</table>\n",
       "</div>"
      ],
      "text/plain": [
       "      Card Avg  Booster Avg  Booster %  Bstr_Prp   B/C\n",
       "4552      0.05         0.04       20.0      0.20  0.80\n",
       "2511      0.04         0.03       25.0      0.25  0.75"
      ]
     },
     "execution_count": 14,
     "metadata": {},
     "output_type": "execute_result"
    }
   ],
   "source": [
    "exp_df = clean_data_csv[[\"Card Avg\", \"Booster Avg\", \"Booster %\"]].copy()\n",
    "exp_df['Bstr_Prp'] = exp_df['Booster %']/100 # proporção do %\n",
    "exp_df['B/C'] = round(exp_df['Booster Avg']/exp_df['Card Avg'],3) # relation Booster/Card\n",
    "exp_df.sample(2)"
   ]
  },
  {
   "cell_type": "markdown",
   "id": "cb99bbf6-6a52-4269-a838-97d5aa427ed1",
   "metadata": {},
   "source": [
    "Here we see that the lower the value in B/C column, cheaper is the Card in the booster comparing with buying a card in the market. It's dificult to see it with this strange percentage in boster %, but the higher the percentage, it's more worth to buy the booster pack. But I prefere to see how much is the value of the Booster card, so I will create a new column for that:"
   ]
  },
  {
   "cell_type": "code",
   "execution_count": 15,
   "id": "de37538a-ec0b-4994-92ee-7f5b42eef897",
   "metadata": {},
   "outputs": [
    {
     "data": {
      "text/html": [
       "<div>\n",
       "<style scoped>\n",
       "    .dataframe tbody tr th:only-of-type {\n",
       "        vertical-align: middle;\n",
       "    }\n",
       "\n",
       "    .dataframe tbody tr th {\n",
       "        vertical-align: top;\n",
       "    }\n",
       "\n",
       "    .dataframe thead th {\n",
       "        text-align: right;\n",
       "    }\n",
       "</style>\n",
       "<table border=\"1\" class=\"dataframe\">\n",
       "  <thead>\n",
       "    <tr style=\"text-align: right;\">\n",
       "      <th></th>\n",
       "      <th>Card Avg</th>\n",
       "      <th>Booster Avg</th>\n",
       "      <th>Booster %</th>\n",
       "      <th>Bstr_Prp</th>\n",
       "      <th>B/C</th>\n",
       "      <th>C/B</th>\n",
       "    </tr>\n",
       "  </thead>\n",
       "  <tbody>\n",
       "    <tr>\n",
       "      <th>1823</th>\n",
       "      <td>0.08</td>\n",
       "      <td>0.08</td>\n",
       "      <td>0.0</td>\n",
       "      <td>0.00</td>\n",
       "      <td>1.00</td>\n",
       "      <td>1.000</td>\n",
       "    </tr>\n",
       "    <tr>\n",
       "      <th>9696</th>\n",
       "      <td>0.59</td>\n",
       "      <td>0.36</td>\n",
       "      <td>39.0</td>\n",
       "      <td>0.39</td>\n",
       "      <td>0.61</td>\n",
       "      <td>1.639</td>\n",
       "    </tr>\n",
       "  </tbody>\n",
       "</table>\n",
       "</div>"
      ],
      "text/plain": [
       "      Card Avg  Booster Avg  Booster %  Bstr_Prp   B/C    C/B\n",
       "1823      0.08         0.08        0.0      0.00  1.00  1.000\n",
       "9696      0.59         0.36       39.0      0.39  0.61  1.639"
      ]
     },
     "execution_count": 15,
     "metadata": {},
     "output_type": "execute_result"
    }
   ],
   "source": [
    "exp_df['C/B'] = round(exp_df['Card Avg']/exp_df['Booster Avg'],3) # relation Card/Booster\n",
    "exp_df.sample(2)"
   ]
  },
  {
   "cell_type": "code",
   "execution_count": 16,
   "id": "f0210a63-162f-464e-aba6-260e29ac4492",
   "metadata": {},
   "outputs": [
    {
     "data": {
      "text/html": [
       "<div>\n",
       "<style scoped>\n",
       "    .dataframe tbody tr th:only-of-type {\n",
       "        vertical-align: middle;\n",
       "    }\n",
       "\n",
       "    .dataframe tbody tr th {\n",
       "        vertical-align: top;\n",
       "    }\n",
       "\n",
       "    .dataframe thead th {\n",
       "        text-align: right;\n",
       "    }\n",
       "</style>\n",
       "<table border=\"1\" class=\"dataframe\">\n",
       "  <thead>\n",
       "    <tr style=\"text-align: right;\">\n",
       "      <th></th>\n",
       "      <th>Card Avg</th>\n",
       "      <th>Booster Avg</th>\n",
       "      <th>Booster %</th>\n",
       "      <th>Bstr_Prp</th>\n",
       "      <th>B/C</th>\n",
       "      <th>C/B</th>\n",
       "    </tr>\n",
       "  </thead>\n",
       "  <tbody>\n",
       "    <tr>\n",
       "      <th>995</th>\n",
       "      <td>0.20</td>\n",
       "      <td>0.00</td>\n",
       "      <td>100.0</td>\n",
       "      <td>1.000</td>\n",
       "      <td>0.000</td>\n",
       "      <td>inf</td>\n",
       "    </tr>\n",
       "    <tr>\n",
       "      <th>3480</th>\n",
       "      <td>77.81</td>\n",
       "      <td>1.08</td>\n",
       "      <td>98.6</td>\n",
       "      <td>0.986</td>\n",
       "      <td>0.014</td>\n",
       "      <td>72.046</td>\n",
       "    </tr>\n",
       "    <tr>\n",
       "      <th>4969</th>\n",
       "      <td>20.32</td>\n",
       "      <td>2.23</td>\n",
       "      <td>89.0</td>\n",
       "      <td>0.890</td>\n",
       "      <td>0.110</td>\n",
       "      <td>9.112</td>\n",
       "    </tr>\n",
       "  </tbody>\n",
       "</table>\n",
       "</div>"
      ],
      "text/plain": [
       "      Card Avg  Booster Avg  Booster %  Bstr_Prp    B/C     C/B\n",
       "995       0.20         0.00      100.0     1.000  0.000     inf\n",
       "3480     77.81         1.08       98.6     0.986  0.014  72.046\n",
       "4969     20.32         2.23       89.0     0.890  0.110   9.112"
      ]
     },
     "execution_count": 16,
     "metadata": {},
     "output_type": "execute_result"
    }
   ],
   "source": [
    "exp_df.sort_values(by=['C/B'], ascending=False).head(3)"
   ]
  },
  {
   "cell_type": "markdown",
   "id": "c0642a5b-37eb-4d0e-9137-6d8f8f4ec4c9",
   "metadata": {},
   "source": [
    "let's take a look in these booster costing zero:"
   ]
  },
  {
   "cell_type": "code",
   "execution_count": 17,
   "id": "2d2880d2-7b24-4435-a47c-8a0897f44c99",
   "metadata": {},
   "outputs": [
    {
     "data": {
      "text/html": [
       "<div>\n",
       "<style scoped>\n",
       "    .dataframe tbody tr th:only-of-type {\n",
       "        vertical-align: middle;\n",
       "    }\n",
       "\n",
       "    .dataframe tbody tr th {\n",
       "        vertical-align: top;\n",
       "    }\n",
       "\n",
       "    .dataframe thead th {\n",
       "        text-align: right;\n",
       "    }\n",
       "</style>\n",
       "<table border=\"1\" class=\"dataframe\">\n",
       "  <thead>\n",
       "    <tr style=\"text-align: right;\">\n",
       "      <th></th>\n",
       "      <th>Game</th>\n",
       "      <th># Cards</th>\n",
       "      <th>Set Price</th>\n",
       "      <th>Price Diff</th>\n",
       "      <th>Card Avg</th>\n",
       "      <th>Booster Avg</th>\n",
       "      <th>Booster %</th>\n",
       "      <th>Avg Qty</th>\n",
       "      <th>AppId</th>\n",
       "    </tr>\n",
       "  </thead>\n",
       "  <tbody>\n",
       "    <tr>\n",
       "      <th>995</th>\n",
       "      <td>Lost Words: Beyond the Page</td>\n",
       "      <td>7</td>\n",
       "      <td>1.39</td>\n",
       "      <td>1.39</td>\n",
       "      <td>0.2</td>\n",
       "      <td>0.0</td>\n",
       "      <td>100.0</td>\n",
       "      <td>16</td>\n",
       "      <td>599610</td>\n",
       "    </tr>\n",
       "  </tbody>\n",
       "</table>\n",
       "</div>"
      ],
      "text/plain": [
       "                            Game # Cards Set Price Price Diff Card Avg  \\\n",
       "995  Lost Words: Beyond the Page       7      1.39       1.39      0.2   \n",
       "\n",
       "    Booster Avg Booster % Avg Qty   AppId  \n",
       "995         0.0     100.0      16  599610  "
      ]
     },
     "execution_count": 17,
     "metadata": {},
     "output_type": "execute_result"
    }
   ],
   "source": [
    "pd.DataFrame(clean_data_csv.loc[995]).T"
   ]
  },
  {
   "cell_type": "code",
   "execution_count": 18,
   "id": "3798116c-978f-4670-bb2e-dd191d8e91a2",
   "metadata": {},
   "outputs": [
    {
     "data": {
      "text/html": [
       "<div>\n",
       "<style scoped>\n",
       "    .dataframe tbody tr th:only-of-type {\n",
       "        vertical-align: middle;\n",
       "    }\n",
       "\n",
       "    .dataframe tbody tr th {\n",
       "        vertical-align: top;\n",
       "    }\n",
       "\n",
       "    .dataframe thead th {\n",
       "        text-align: right;\n",
       "    }\n",
       "</style>\n",
       "<table border=\"1\" class=\"dataframe\">\n",
       "  <thead>\n",
       "    <tr style=\"text-align: right;\">\n",
       "      <th></th>\n",
       "      <th>Game</th>\n",
       "      <th># Cards</th>\n",
       "      <th>Set Price</th>\n",
       "      <th>Price Diff</th>\n",
       "      <th>Card Avg</th>\n",
       "      <th>Booster Avg</th>\n",
       "      <th>Booster %</th>\n",
       "      <th>Avg Qty</th>\n",
       "      <th>AppId</th>\n",
       "    </tr>\n",
       "  </thead>\n",
       "  <tbody>\n",
       "    <tr>\n",
       "      <th>995</th>\n",
       "      <td>Lost Words: Beyond the Page</td>\n",
       "      <td>7</td>\n",
       "      <td>1.39</td>\n",
       "      <td>1.39</td>\n",
       "      <td>0.2</td>\n",
       "      <td>0.0</td>\n",
       "      <td>100.0</td>\n",
       "      <td>16</td>\n",
       "      <td>599610</td>\n",
       "    </tr>\n",
       "  </tbody>\n",
       "</table>\n",
       "</div>"
      ],
      "text/plain": [
       "                            Game  # Cards  Set Price  Price Diff  Card Avg  \\\n",
       "995  Lost Words: Beyond the Page        7       1.39        1.39       0.2   \n",
       "\n",
       "     Booster Avg  Booster %  Avg Qty   AppId  \n",
       "995          0.0      100.0       16  599610  "
      ]
     },
     "execution_count": 18,
     "metadata": {},
     "output_type": "execute_result"
    }
   ],
   "source": [
    "clean_data_csv[clean_data_csv['Booster Avg'] == 0]"
   ]
  },
  {
   "cell_type": "markdown",
   "id": "3db11fbc-c5db-412c-aed8-2bf7e2bdd9e8",
   "metadata": {},
   "source": [
    "As there is only one value with this error, it is interessant to remove it."
   ]
  },
  {
   "cell_type": "code",
   "execution_count": 19,
   "id": "11942546-e54a-4d98-b080-786ade3a4f7d",
   "metadata": {},
   "outputs": [
    {
     "data": {
      "text/html": [
       "<div>\n",
       "<style scoped>\n",
       "    .dataframe tbody tr th:only-of-type {\n",
       "        vertical-align: middle;\n",
       "    }\n",
       "\n",
       "    .dataframe tbody tr th {\n",
       "        vertical-align: top;\n",
       "    }\n",
       "\n",
       "    .dataframe thead th {\n",
       "        text-align: right;\n",
       "    }\n",
       "</style>\n",
       "<table border=\"1\" class=\"dataframe\">\n",
       "  <thead>\n",
       "    <tr style=\"text-align: right;\">\n",
       "      <th></th>\n",
       "      <th>Card Avg</th>\n",
       "      <th>Booster Avg</th>\n",
       "      <th>Booster %</th>\n",
       "      <th>Bstr_Prp</th>\n",
       "      <th>B/C</th>\n",
       "      <th>C/B</th>\n",
       "    </tr>\n",
       "  </thead>\n",
       "  <tbody>\n",
       "    <tr>\n",
       "      <th>3480</th>\n",
       "      <td>77.81</td>\n",
       "      <td>1.08</td>\n",
       "      <td>98.6</td>\n",
       "      <td>0.986</td>\n",
       "      <td>0.014</td>\n",
       "      <td>72.046</td>\n",
       "    </tr>\n",
       "    <tr>\n",
       "      <th>4969</th>\n",
       "      <td>20.32</td>\n",
       "      <td>2.23</td>\n",
       "      <td>89.0</td>\n",
       "      <td>0.890</td>\n",
       "      <td>0.110</td>\n",
       "      <td>9.112</td>\n",
       "    </tr>\n",
       "    <tr>\n",
       "      <th>6919</th>\n",
       "      <td>0.83</td>\n",
       "      <td>0.12</td>\n",
       "      <td>85.5</td>\n",
       "      <td>0.855</td>\n",
       "      <td>0.145</td>\n",
       "      <td>6.917</td>\n",
       "    </tr>\n",
       "    <tr>\n",
       "      <th>9433</th>\n",
       "      <td>0.32</td>\n",
       "      <td>0.05</td>\n",
       "      <td>84.4</td>\n",
       "      <td>0.844</td>\n",
       "      <td>0.156</td>\n",
       "      <td>6.400</td>\n",
       "    </tr>\n",
       "    <tr>\n",
       "      <th>6565</th>\n",
       "      <td>0.24</td>\n",
       "      <td>0.04</td>\n",
       "      <td>83.3</td>\n",
       "      <td>0.833</td>\n",
       "      <td>0.167</td>\n",
       "      <td>6.000</td>\n",
       "    </tr>\n",
       "  </tbody>\n",
       "</table>\n",
       "</div>"
      ],
      "text/plain": [
       "      Card Avg  Booster Avg  Booster %  Bstr_Prp    B/C     C/B\n",
       "3480     77.81         1.08       98.6     0.986  0.014  72.046\n",
       "4969     20.32         2.23       89.0     0.890  0.110   9.112\n",
       "6919      0.83         0.12       85.5     0.855  0.145   6.917\n",
       "9433      0.32         0.05       84.4     0.844  0.156   6.400\n",
       "6565      0.24         0.04       83.3     0.833  0.167   6.000"
      ]
     },
     "execution_count": 19,
     "metadata": {},
     "output_type": "execute_result"
    }
   ],
   "source": [
    "exp_df = exp_df.drop(995)\n",
    "clean_data_csv = clean_data_csv.drop(995)\n",
    "\n",
    "exp_df.sort_values(by=['C/B'], ascending=False).head()"
   ]
  },
  {
   "cell_type": "markdown",
   "id": "1106d86d-af64-489e-8a8c-83d92c7d8533",
   "metadata": {},
   "source": [
    "Now, we can add this easy to see proportion at our DataFrame:"
   ]
  },
  {
   "cell_type": "code",
   "execution_count": 20,
   "id": "ef3235d4-eb1b-4586-a088-e8b8d97fab9a",
   "metadata": {},
   "outputs": [
    {
     "data": {
      "text/html": [
       "<div>\n",
       "<style scoped>\n",
       "    .dataframe tbody tr th:only-of-type {\n",
       "        vertical-align: middle;\n",
       "    }\n",
       "\n",
       "    .dataframe tbody tr th {\n",
       "        vertical-align: top;\n",
       "    }\n",
       "\n",
       "    .dataframe thead th {\n",
       "        text-align: right;\n",
       "    }\n",
       "</style>\n",
       "<table border=\"1\" class=\"dataframe\">\n",
       "  <thead>\n",
       "    <tr style=\"text-align: right;\">\n",
       "      <th></th>\n",
       "      <th>Game</th>\n",
       "      <th># Cards</th>\n",
       "      <th>Set Price</th>\n",
       "      <th>Price Diff</th>\n",
       "      <th>Card Avg</th>\n",
       "      <th>Booster Avg</th>\n",
       "      <th>Booster %</th>\n",
       "      <th>Avg Qty</th>\n",
       "      <th>AppId</th>\n",
       "      <th>Rate C/B</th>\n",
       "    </tr>\n",
       "  </thead>\n",
       "  <tbody>\n",
       "    <tr>\n",
       "      <th>6495</th>\n",
       "      <td>Lolly Joe</td>\n",
       "      <td>5</td>\n",
       "      <td>1.33</td>\n",
       "      <td>1.33</td>\n",
       "      <td>0.27</td>\n",
       "      <td>0.29</td>\n",
       "      <td>-7.4</td>\n",
       "      <td>85</td>\n",
       "      <td>436060</td>\n",
       "      <td>0.931</td>\n",
       "    </tr>\n",
       "    <tr>\n",
       "      <th>3047</th>\n",
       "      <td>My Free Farm 2</td>\n",
       "      <td>5</td>\n",
       "      <td>0.79</td>\n",
       "      <td>0.79</td>\n",
       "      <td>0.16</td>\n",
       "      <td>0.77</td>\n",
       "      <td>-381.3</td>\n",
       "      <td>30</td>\n",
       "      <td>799240</td>\n",
       "      <td>0.208</td>\n",
       "    </tr>\n",
       "  </tbody>\n",
       "</table>\n",
       "</div>"
      ],
      "text/plain": [
       "                Game  # Cards  Set Price  Price Diff  Card Avg  Booster Avg  \\\n",
       "6495       Lolly Joe        5       1.33        1.33      0.27         0.29   \n",
       "3047  My Free Farm 2        5       0.79        0.79      0.16         0.77   \n",
       "\n",
       "      Booster %  Avg Qty   AppId  Rate C/B  \n",
       "6495       -7.4       85  436060     0.931  \n",
       "3047     -381.3       30  799240     0.208  "
      ]
     },
     "execution_count": 20,
     "metadata": {},
     "output_type": "execute_result"
    }
   ],
   "source": [
    "clean_data_csv['Rate C/B'] = round(clean_data_csv['Card Avg']/clean_data_csv['Booster Avg'],3)\n",
    "clean_data_csv.sample(2)"
   ]
  },
  {
   "cell_type": "markdown",
   "id": "031130b2-1ac1-48c3-bc55-4aa9cc90217e",
   "metadata": {},
   "source": [
    "# Verify Correlations\n",
    "Here we can see how the data are related to each other"
   ]
  },
  {
   "cell_type": "code",
   "execution_count": 21,
   "id": "62d19eb4-3cc4-4efe-8345-720eaa495018",
   "metadata": {},
   "outputs": [
    {
     "data": {
      "image/png": "[encoded data removed]",
      "text/plain": [
       "<Figure size 1080x216 with 2 Axes>"
      ]
     },
     "metadata": {},
     "output_type": "display_data"
    }
   ],
   "source": [
    "def correlation_heat(data_frame): # heatmap that shows the correlation between variables\n",
    "    matrix = data_frame.corr().round(2)\n",
    "    mask = np.triu(np.ones_like(matrix, dtype=bool))\n",
    "    sns.heatmap(matrix, annot=True, vmax=1, vmin=-1, center=0, cmap='vlag', mask=mask)\n",
    "    plt.show()\n",
    "    \n",
    "sns.set(rc={\"figure.figsize\":(15, 3)}) #set size of the sns image\n",
    "correlation_heat(clean_data_csv)"
   ]
  },
  {
   "cell_type": "markdown",
   "id": "f5aeb950-19c0-4d9e-b517-56d60e31b275",
   "metadata": {},
   "source": [
    "The mean values of the variables are followed:"
   ]
  },
  {
   "cell_type": "code",
   "execution_count": 22,
   "id": "50167d76-6138-415e-9d64-685b6f07a153",
   "metadata": {},
   "outputs": [
    {
     "data": {
      "text/html": [
       "<div>\n",
       "<style scoped>\n",
       "    .dataframe tbody tr th:only-of-type {\n",
       "        vertical-align: middle;\n",
       "    }\n",
       "\n",
       "    .dataframe tbody tr th {\n",
       "        vertical-align: top;\n",
       "    }\n",
       "\n",
       "    .dataframe thead th {\n",
       "        text-align: right;\n",
       "    }\n",
       "</style>\n",
       "<table border=\"1\" class=\"dataframe\">\n",
       "  <thead>\n",
       "    <tr style=\"text-align: right;\">\n",
       "      <th></th>\n",
       "      <th># Cards</th>\n",
       "      <th>Set Price</th>\n",
       "      <th>Price Diff</th>\n",
       "      <th>Card Avg</th>\n",
       "      <th>Booster Avg</th>\n",
       "      <th>Booster %</th>\n",
       "      <th>Avg Qty</th>\n",
       "      <th>Rate C/B</th>\n",
       "    </tr>\n",
       "  </thead>\n",
       "  <tbody>\n",
       "    <tr>\n",
       "      <th>0</th>\n",
       "      <td>7.155</td>\n",
       "      <td>0.678</td>\n",
       "      <td>0.678</td>\n",
       "      <td>0.1</td>\n",
       "      <td>0.435</td>\n",
       "      <td>-354.286</td>\n",
       "      <td>280.663</td>\n",
       "      <td>1.064</td>\n",
       "    </tr>\n",
       "  </tbody>\n",
       "</table>\n",
       "</div>"
      ],
      "text/plain": [
       "   # Cards  Set Price  Price Diff  Card Avg  Booster Avg  Booster %  Avg Qty  \\\n",
       "0    7.155      0.678       0.678       0.1        0.435   -354.286  280.663   \n",
       "\n",
       "   Rate C/B  \n",
       "0     1.064  "
      ]
     },
     "execution_count": 22,
     "metadata": {},
     "output_type": "execute_result"
    }
   ],
   "source": [
    "data_mean = clean_data_csv.copy()\n",
    "data_mean.drop(['Game', 'AppId'], axis=1, inplace=True)\n",
    "pd.DataFrame(round(data_mean.mean(),3)).T"
   ]
  },
  {
   "cell_type": "markdown",
   "id": "c75c4faf-d38a-4c58-b952-d1b9fa0a1757",
   "metadata": {},
   "source": [
    "## Set Price __X__ Price Diff\n",
    "- _Set Price - The total price of all the cards for the set_\n",
    "- directly proportional\n",
    "- correlation: 1\n",
    "- mean relation: 0.678 X 0.678"
   ]
  },
  {
   "cell_type": "markdown",
   "id": "74a25e2c-396f-4f09-adb8-417b6832e43e",
   "metadata": {},
   "source": [
    "Now, let's verify if this columns are equal:"
   ]
  },
  {
   "cell_type": "code",
   "execution_count": 23,
   "id": "a907f6a3-4b0b-405a-bf6a-e8974cc13a48",
   "metadata": {},
   "outputs": [
    {
     "data": {
      "text/html": [
       "<div>\n",
       "<style scoped>\n",
       "    .dataframe tbody tr th:only-of-type {\n",
       "        vertical-align: middle;\n",
       "    }\n",
       "\n",
       "    .dataframe tbody tr th {\n",
       "        vertical-align: top;\n",
       "    }\n",
       "\n",
       "    .dataframe thead th {\n",
       "        text-align: right;\n",
       "    }\n",
       "</style>\n",
       "<table border=\"1\" class=\"dataframe\">\n",
       "  <thead>\n",
       "    <tr style=\"text-align: right;\">\n",
       "      <th></th>\n",
       "      <th>Set Price</th>\n",
       "      <th>Price Diff</th>\n",
       "      <th>Difference</th>\n",
       "    </tr>\n",
       "  </thead>\n",
       "  <tbody>\n",
       "  </tbody>\n",
       "</table>\n",
       "</div>"
      ],
      "text/plain": [
       "Empty DataFrame\n",
       "Columns: [Set Price, Price Diff, Difference]\n",
       "Index: []"
      ]
     },
     "execution_count": 23,
     "metadata": {},
     "output_type": "execute_result"
    }
   ],
   "source": [
    "test = clean_data_csv[['Set Price', 'Price Diff']].copy()\n",
    "test['Difference'] = test['Set Price'] - test['Price Diff']\n",
    "test.query('Difference != 0.0')"
   ]
  },
  {
   "cell_type": "markdown",
   "id": "bc8e0d50-d0d8-4787-b7e9-323f63e6b652",
   "metadata": {},
   "source": [
    "if there is no difference then they are the same"
   ]
  },
  {
   "cell_type": "code",
   "execution_count": 24,
   "id": "2c10db12-e781-4e4c-9270-56d22ecafe18",
   "metadata": {},
   "outputs": [
    {
     "data": {
      "image/png": "[encoded data removed]",
      "text/plain": [
       "<Figure size 1080x216 with 2 Axes>"
      ]
     },
     "metadata": {},
     "output_type": "display_data"
    }
   ],
   "source": [
    "clean_data_csv = clean_data_csv.drop('Price Diff', axis=1)\n",
    "correlation_heat(clean_data_csv)"
   ]
  },
  {
   "cell_type": "markdown",
   "id": "9603df97-6d8e-4c53-8777-5fe319cf736f",
   "metadata": {},
   "source": [
    "## Set Price __X__ Card Avg\n",
    "- _Card Avg - The total price of all the cards for the set_\n",
    "- directly proportional\n",
    "- correlation: 0.96\n",
    "- mean relation: 0.678 x 0.1"
   ]
  },
  {
   "cell_type": "code",
   "execution_count": 25,
   "id": "1ac00742-538e-409e-96f0-42f93a3daa13",
   "metadata": {},
   "outputs": [
    {
     "name": "stdout",
     "output_type": "stream",
     "text": [
      "The proportion between Set_Price and Card_Avg is: 6.78\n"
     ]
    }
   ],
   "source": [
    "print(f'The proportion between Set_Price and Card_Avg is: {0.678/0.1}')"
   ]
  },
  {
   "cell_type": "markdown",
   "id": "cdd47db1-2583-45a2-8410-92c27c7ea0e1",
   "metadata": {},
   "source": [
    "__This result is pretty obvious as 'Card Avg' is the average value of each card in the set.__"
   ]
  },
  {
   "cell_type": "markdown",
   "id": "30afc3c1-4405-4990-8ba1-24dcd8f40e07",
   "metadata": {},
   "source": [
    "## Booster % __X__ Booster Avg\n",
    "- _Booster % - How many percent cheaper average booster cards are for the set;_\n",
    "- _Booster Avg - The average price of a card from the set's booster;_\n",
    "- inversely proportional\n",
    "- correlation: -.92\n",
    "- -354.239 x 0.435"
   ]
  },
  {
   "cell_type": "markdown",
   "id": "de74aef8-b423-4103-948c-2e9db7585ca1",
   "metadata": {},
   "source": [
    "__This result is expected as the rate on 'Booster %' grows as the 'Booster Avg' decreases__"
   ]
  },
  {
   "cell_type": "markdown",
   "id": "ff30bde5-834e-4a01-8a82-d6156cb1eb2a",
   "metadata": {
    "tags": []
   },
   "source": [
    "# Individual Analysis of Each Column\n",
    "Here we can get a better view of the total distribution"
   ]
  },
  {
   "cell_type": "markdown",
   "id": "ae469597-1078-4568-90d5-ef7893cbd698",
   "metadata": {},
   "source": [
    "## '# Cards'"
   ]
  },
  {
   "cell_type": "code",
   "execution_count": 26,
   "id": "4564d33d-1c6e-487c-a62c-e2970c2e32ea",
   "metadata": {},
   "outputs": [
    {
     "data": {
      "text/plain": [
       "<AxesSubplot:xlabel='# Cards'>"
      ]
     },
     "execution_count": 26,
     "metadata": {},
     "output_type": "execute_result"
    },
    {
     "data": {
      "image/png": "[encoded data removed]",
      "text/plain": [
       "<Figure size 1296x144 with 1 Axes>"
      ]
     },
     "metadata": {},
     "output_type": "display_data"
    }
   ],
   "source": [
    "sns.set(rc={\"figure.figsize\":(18, 2)}) #set size of the sns image\n",
    "sns.boxplot(x=clean_data_csv['# Cards'])"
   ]
  },
  {
   "cell_type": "markdown",
   "id": "44df2cd2-5484-4a8e-8330-527fd17805a9",
   "metadata": {
    "tags": []
   },
   "source": [
    "## 'Set Price'"
   ]
  },
  {
   "cell_type": "code",
   "execution_count": 27,
   "id": "74d83f66-05ef-4860-95c8-ae3fa0762dd7",
   "metadata": {},
   "outputs": [
    {
     "data": {
      "image/png": "[encoded data removed]",
      "text/plain": [
       "<Figure size 1224x360 with 2 Axes>"
      ]
     },
     "metadata": {},
     "output_type": "display_data"
    }
   ],
   "source": [
    "def boxwithzoom(column, min_limit, max_limit): # here is a standard function to create the plots with zoom\n",
    "    f, axs = plt.subplots(2, 1, figsize=(17,5), sharey=True)\n",
    "    ax1 = sns.boxplot(x=column, ax=axs[0])\n",
    "    ax1.set(xlabel=None)\n",
    "    ax2 = sns.boxplot(x=column, ax=axs[1])\n",
    "    ax2.set_xlim([min_limit, max_limit])\n",
    "    \n",
    "boxwithzoom(clean_data_csv['Set Price'], 0.1, 1.3)"
   ]
  },
  {
   "cell_type": "markdown",
   "id": "a07c1f09-a91f-407d-b8f7-9cfaeb7a8107",
   "metadata": {},
   "source": [
    "## 'Card Avg'"
   ]
  },
  {
   "cell_type": "code",
   "execution_count": 28,
   "id": "c0921d54-fff3-495d-ab30-a85d31587893",
   "metadata": {},
   "outputs": [
    {
     "data": {
      "image/png": "[encoded data removed]",
      "text/plain": [
       "<Figure size 1224x360 with 2 Axes>"
      ]
     },
     "metadata": {},
     "output_type": "display_data"
    }
   ],
   "source": [
    "boxwithzoom(clean_data_csv['Card Avg'], 0, 0.2)"
   ]
  },
  {
   "cell_type": "markdown",
   "id": "c714c9e5-66dc-46b8-a2c1-49e3f4a92552",
   "metadata": {},
   "source": [
    "## 'Booster Avg'"
   ]
  },
  {
   "cell_type": "code",
   "execution_count": 29,
   "id": "d2ca035d-35a8-4cc9-b545-c187c5f72ed5",
   "metadata": {},
   "outputs": [
    {
     "data": {
      "image/png": "[encoded data removed]",
      "text/plain": [
       "<Figure size 1224x360 with 2 Axes>"
      ]
     },
     "metadata": {},
     "output_type": "display_data"
    }
   ],
   "source": [
    "boxwithzoom(clean_data_csv['Booster Avg'], 0, 0.4)"
   ]
  },
  {
   "cell_type": "markdown",
   "id": "3fe1b589-376f-42b2-a5db-b9e4a718a930",
   "metadata": {},
   "source": [
    "## 'Booster %'"
   ]
  },
  {
   "cell_type": "code",
   "execution_count": 30,
   "id": "730abb00-45bf-4259-b5c6-ee0b35d204ae",
   "metadata": {},
   "outputs": [
    {
     "data": {
      "image/png": "[encoded data removed]",
      "text/plain": [
       "<Figure size 1224x360 with 2 Axes>"
      ]
     },
     "metadata": {},
     "output_type": "display_data"
    }
   ],
   "source": [
    "boxwithzoom(clean_data_csv['Booster %'], -200, 100)"
   ]
  },
  {
   "cell_type": "markdown",
   "id": "34035d41-732d-4120-9cce-d935f08768bd",
   "metadata": {},
   "source": [
    "## 'Avg Qty'"
   ]
  },
  {
   "cell_type": "code",
   "execution_count": 31,
   "id": "c3127818-a406-480f-8782-1b6bf20839e3",
   "metadata": {},
   "outputs": [
    {
     "data": {
      "image/png": "[encoded data removed]",
      "text/plain": [
       "<Figure size 1224x360 with 2 Axes>"
      ]
     },
     "metadata": {},
     "output_type": "display_data"
    }
   ],
   "source": [
    "boxwithzoom(clean_data_csv['Avg Qty'], -20, 500)"
   ]
  },
  {
   "cell_type": "markdown",
   "id": "1dc42e03-21d7-4679-8d43-08aa0f36556c",
   "metadata": {},
   "source": [
    "## 'Rate C/B'"
   ]
  },
  {
   "cell_type": "code",
   "execution_count": 32,
   "id": "55a09aa6-b722-4599-b886-1a90752594e4",
   "metadata": {},
   "outputs": [
    {
     "data": {
      "image/png": "[encoded data removed]",
      "text/plain": [
       "<Figure size 1224x360 with 2 Axes>"
      ]
     },
     "metadata": {},
     "output_type": "display_data"
    }
   ],
   "source": [
    "boxwithzoom(clean_data_csv['Rate C/B'], -0.2, 2.5)"
   ]
  },
  {
   "cell_type": "markdown",
   "id": "ff755988-738f-4642-8353-cb1416b1744e",
   "metadata": {},
   "source": [
    "# Conclusions"
   ]
  },
  {
   "cell_type": "markdown",
   "id": "b7c427f9-1cf1-4d9c-ac9b-25fbdef323ca",
   "metadata": {},
   "source": [
    "The purpose here is not just to understand but to prepare the DataSet in order to suggest booster purchases for the resale of individual cards. Some conclusions of this work are quite obvious, since many values of the columns of the original file are dependent variables."
   ]
  },
  {
   "cell_type": "code",
   "execution_count": null,
   "id": "6fe5e6bc-4b93-4e39-99f6-3361c5446c9a",
   "metadata": {},
   "outputs": [],
   "source": []
  }
 ],
 "metadata": {
  "kernelspec": {
   "display_name": "Python 3 (ipykernel)",
   "language": "python",
   "name": "python3"
  },
  "language_info": {
   "codemirror_mode": {
    "name": "ipython",
    "version": 3
   },
   "file_extension": ".py",
   "mimetype": "text/x-python",
   "name": "python",
   "nbconvert_exporter": "python",
   "pygments_lexer": "ipython3",
   "version": "3.9.7"
  }
 },
 "nbformat": 4,
 "nbformat_minor": 5
}
