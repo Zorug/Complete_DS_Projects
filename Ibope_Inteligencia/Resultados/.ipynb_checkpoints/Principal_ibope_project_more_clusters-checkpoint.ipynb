{
 "cells": [
  {
   "cell_type": "markdown",
   "metadata": {
    "colab_type": "text",
    "id": "mqK16Qdc_dnw"
   },
   "source": [
    "# Case de Processo Seletivo: IBOPE Inteligência"
   ]
  },
  {
   "cell_type": "code",
   "execution_count": 1,
   "metadata": {
    "colab": {},
    "colab_type": "code",
    "id": "g9sF8qKT8Dra"
   },
   "outputs": [],
   "source": [
    "import pandas as pd\n",
    "import numpy as np\n",
    "import matplotlib.pyplot as plt\n",
    "%matplotlib inline\n",
    "import seaborn as sns"
   ]
  },
  {
   "cell_type": "code",
   "execution_count": 2,
   "metadata": {
    "colab": {},
    "colab_type": "code",
    "id": "G9kTYX1b8s3_"
   },
   "outputs": [],
   "source": [
    "xls = '../Dados/Case - Data Science IBOPE.XLS'"
   ]
  },
  {
   "cell_type": "code",
   "execution_count": 3,
   "metadata": {
    "colab": {
     "base_uri": "https://localhost:8080/",
     "height": 357
    },
    "colab_type": "code",
    "id": "ftOShcRv8ItG",
    "outputId": "20e145aa-1acb-4065-b2a4-817393d28c05"
   },
   "outputs": [
    {
     "data": {
      "text/html": [
       "<div>\n",
       "<style scoped>\n",
       "    .dataframe tbody tr th:only-of-type {\n",
       "        vertical-align: middle;\n",
       "    }\n",
       "\n",
       "    .dataframe tbody tr th {\n",
       "        vertical-align: top;\n",
       "    }\n",
       "\n",
       "    .dataframe thead th {\n",
       "        text-align: right;\n",
       "    }\n",
       "</style>\n",
       "<table border=\"1\" class=\"dataframe\">\n",
       "  <thead>\n",
       "    <tr style=\"text-align: right;\">\n",
       "      <th></th>\n",
       "      <th>Código</th>\n",
       "      <th>Município</th>\n",
       "      <th>Área (km²)</th>\n",
       "      <th>Densidade demográfica, 2000</th>\n",
       "      <th>Distância à capital (km)</th>\n",
       "      <th>Esperança de vida ao nascer, 2000</th>\n",
       "      <th>Mortalidade até um ano de idade, 2000</th>\n",
       "      <th>Taxa de fecundidade total, 2000</th>\n",
       "      <th>Percentual de pessoas de 25 anos ou mais analfabetas, 2000</th>\n",
       "      <th>Renda per Capita, 2000</th>\n",
       "      <th>...</th>\n",
       "      <th>Taxa de alfabetização, 2000</th>\n",
       "      <th>Média de anos de estudo das pessoas de 25 anos ou mais, 2000</th>\n",
       "      <th>População de 25 anos ou mais de idade, 1991</th>\n",
       "      <th>População de 25 anos ou mais de idade, 2000</th>\n",
       "      <th>População de 65 anos ou mais de idade, 1991</th>\n",
       "      <th>População de 65 anos ou mais de idade, 2000</th>\n",
       "      <th>População total, 1991</th>\n",
       "      <th>População total, 2000</th>\n",
       "      <th>População urbana, 2000</th>\n",
       "      <th>População rural, 2000</th>\n",
       "    </tr>\n",
       "  </thead>\n",
       "  <tbody>\n",
       "    <tr>\n",
       "      <td>3683</td>\n",
       "      <td>231060</td>\n",
       "      <td>Penaforte (CE)</td>\n",
       "      <td>178.1</td>\n",
       "      <td>39.4</td>\n",
       "      <td>460.721931</td>\n",
       "      <td>70.00</td>\n",
       "      <td>33.20</td>\n",
       "      <td>3.01</td>\n",
       "      <td>36.30</td>\n",
       "      <td>92.09</td>\n",
       "      <td>...</td>\n",
       "      <td>72.79</td>\n",
       "      <td>3.91</td>\n",
       "      <td>2507</td>\n",
       "      <td>3104</td>\n",
       "      <td>327</td>\n",
       "      <td>442</td>\n",
       "      <td>6435</td>\n",
       "      <td>7017</td>\n",
       "      <td>4478</td>\n",
       "      <td>2539</td>\n",
       "    </tr>\n",
       "    <tr>\n",
       "      <td>3527</td>\n",
       "      <td>231025</td>\n",
       "      <td>Paraipaba (CE)</td>\n",
       "      <td>314.1</td>\n",
       "      <td>80.6</td>\n",
       "      <td>73.866197</td>\n",
       "      <td>68.52</td>\n",
       "      <td>38.22</td>\n",
       "      <td>3.16</td>\n",
       "      <td>33.79</td>\n",
       "      <td>84.54</td>\n",
       "      <td>...</td>\n",
       "      <td>71.13</td>\n",
       "      <td>3.69</td>\n",
       "      <td>7309</td>\n",
       "      <td>10760</td>\n",
       "      <td>871</td>\n",
       "      <td>1412</td>\n",
       "      <td>19791</td>\n",
       "      <td>25462</td>\n",
       "      <td>12680</td>\n",
       "      <td>12782</td>\n",
       "    </tr>\n",
       "    <tr>\n",
       "      <td>499</td>\n",
       "      <td>420209</td>\n",
       "      <td>Barra Bonita (SC)</td>\n",
       "      <td>62.4</td>\n",
       "      <td>33.9</td>\n",
       "      <td>494.890078</td>\n",
       "      <td>71.51</td>\n",
       "      <td>21.78</td>\n",
       "      <td>2.96</td>\n",
       "      <td>12.75</td>\n",
       "      <td>149.95</td>\n",
       "      <td>...</td>\n",
       "      <td>87.42</td>\n",
       "      <td>3.77</td>\n",
       "      <td>1079</td>\n",
       "      <td>1173</td>\n",
       "      <td>87</td>\n",
       "      <td>146</td>\n",
       "      <td>2361</td>\n",
       "      <td>2118</td>\n",
       "      <td>256</td>\n",
       "      <td>1862</td>\n",
       "    </tr>\n",
       "  </tbody>\n",
       "</table>\n",
       "<p>3 rows × 25 columns</p>\n",
       "</div>"
      ],
      "text/plain": [
       "      Código          Município  Área (km²)  Densidade demográfica, 2000  \\\n",
       "3683  231060     Penaforte (CE)       178.1                         39.4   \n",
       "3527  231025     Paraipaba (CE)       314.1                         80.6   \n",
       "499   420209  Barra Bonita (SC)        62.4                         33.9   \n",
       "\n",
       "      Distância à capital (km)  Esperança de vida ao nascer, 2000  \\\n",
       "3683                460.721931                              70.00   \n",
       "3527                 73.866197                              68.52   \n",
       "499                 494.890078                              71.51   \n",
       "\n",
       "      Mortalidade até um ano de idade, 2000  Taxa de fecundidade total, 2000  \\\n",
       "3683                                  33.20                             3.01   \n",
       "3527                                  38.22                             3.16   \n",
       "499                                   21.78                             2.96   \n",
       "\n",
       "      Percentual de pessoas de 25 anos ou mais analfabetas, 2000  \\\n",
       "3683                                              36.30            \n",
       "3527                                              33.79            \n",
       "499                                               12.75            \n",
       "\n",
       "      Renda per Capita, 2000  ...  Taxa de alfabetização, 2000  \\\n",
       "3683                   92.09  ...                        72.79   \n",
       "3527                   84.54  ...                        71.13   \n",
       "499                   149.95  ...                        87.42   \n",
       "\n",
       "      Média de anos de estudo das pessoas de 25 anos ou mais, 2000  \\\n",
       "3683                                               3.91              \n",
       "3527                                               3.69              \n",
       "499                                                3.77              \n",
       "\n",
       "      População de 25 anos ou mais de idade, 1991  \\\n",
       "3683                                         2507   \n",
       "3527                                         7309   \n",
       "499                                          1079   \n",
       "\n",
       "      População de 25 anos ou mais de idade, 2000  \\\n",
       "3683                                         3104   \n",
       "3527                                        10760   \n",
       "499                                          1173   \n",
       "\n",
       "      População de 65 anos ou mais de idade, 1991  \\\n",
       "3683                                          327   \n",
       "3527                                          871   \n",
       "499                                            87   \n",
       "\n",
       "      População de 65 anos ou mais de idade, 2000  População total, 1991  \\\n",
       "3683                                          442                   6435   \n",
       "3527                                         1412                  19791   \n",
       "499                                           146                   2361   \n",
       "\n",
       "      População total, 2000  População urbana, 2000  População rural, 2000  \n",
       "3683                   7017                    4478                   2539  \n",
       "3527                  25462                   12680                  12782  \n",
       "499                    2118                     256                   1862  \n",
       "\n",
       "[3 rows x 25 columns]"
      ]
     },
     "execution_count": 3,
     "metadata": {},
     "output_type": "execute_result"
    }
   ],
   "source": [
    "dados = pd.read_excel(xls, sheet_name='Informações_Municipais', header=3)\n",
    "dados = dados.rename(columns={'Taxa bruta de freqüência à escola, 2000':'Taxa bruta de frequência à escola, 2000'})\n",
    "dados = dados.rename(columns={'Média de anos de estudo das pessoas de 25 anos ou mais de idade, 2000':'Média de anos de estudo das pessoas de 25 anos ou mais, 2000'})\n",
    "dados.sample(3)"
   ]
  },
  {
   "cell_type": "markdown",
   "metadata": {
    "colab_type": "text",
    "id": "lxZEpV1mHlMj"
   },
   "source": [
    "### Adicionando novos dados ao Dataset"
   ]
  },
  {
   "cell_type": "code",
   "execution_count": 496,
   "metadata": {
    "colab": {
     "base_uri": "https://localhost:8080/",
     "height": 34
    },
    "colab_type": "code",
    "id": "IkRpnOYj4Kqb",
    "outputId": "2d791893-0a40-414e-d65c-485122c40997"
   },
   "outputs": [
    {
     "data": {
      "text/plain": [
       "(5507, 30)"
      ]
     },
     "execution_count": 496,
     "metadata": {
      "tags": []
     },
     "output_type": "execute_result"
    }
   ],
   "source": [
    "dados2 = dados.copy()\n",
    "dados2['TAXA DE CRESCIMENTO: MAIS DE 25 ANOS'] = dados['População de 25 anos ou mais de idade, 2000'] - dados['População de 25 anos ou mais de idade, 1991']\n",
    "dados2['TAXA DE CRESCIMENTO: MAIS DE 65 ANOS'] = dados['População de 65 anos ou mais de idade, 2000'] - dados['População de 65 anos ou mais de idade, 1991']\n",
    "dados2['TAXA DE CRESCIMENTO POPULACIONAL EM 10 ANOS'] = dados['População total, 2000'] - dados['População total, 1991']\n",
    "dados2['PROPORÇÃO URBANA DA POPULAÇÃO'] = dados['População urbana, 2000'] / dados['População total, 2000']\n",
    "dados2['PROPORÇÃO RURAL DA POPULAÇÃO'] = dados['População rural, 2000'] / dados['População total, 2000']\n",
    "dados = dados2\n",
    "\n",
    "dados.shape # Tamanho do dataset"
   ]
  },
  {
   "cell_type": "markdown",
   "metadata": {
    "colab_type": "text",
    "id": "50oGjvOJHvhY"
   },
   "source": [
    "### Verificação de dados nulos no Dataset"
   ]
  },
  {
   "cell_type": "code",
   "execution_count": 497,
   "metadata": {
    "colab": {
     "base_uri": "https://localhost:8080/",
     "height": 638
    },
    "colab_type": "code",
    "id": "cutPWEFs0OGw",
    "outputId": "b3423e4a-dfaa-47b4-91ed-a18e2a2a95ae"
   },
   "outputs": [
    {
     "name": "stdout",
     "output_type": "stream",
     "text": [
      "<class 'pandas.core.frame.DataFrame'>\n",
      "RangeIndex: 5507 entries, 0 to 5506\n",
      "Data columns (total 30 columns):\n",
      "Código                                                          5507 non-null int64\n",
      "Município                                                       5507 non-null object\n",
      "Área (km²)                                                      5507 non-null float64\n",
      "Densidade demográfica, 2000                                     5507 non-null float64\n",
      "Distância à capital (km)                                        5507 non-null float64\n",
      "Esperança de vida ao nascer, 2000                               5507 non-null float64\n",
      "Mortalidade até um ano de idade, 2000                           5507 non-null float64\n",
      "Taxa de fecundidade total, 2000                                 5507 non-null float64\n",
      "Percentual de pessoas de 25 anos ou mais analfabetas, 2000      5507 non-null float64\n",
      "Renda per Capita, 2000                                          5507 non-null float64\n",
      "Índice de Gini, 2000                                            5507 non-null float64\n",
      "Intensidade da indigência, 2000                                 5507 non-null float64\n",
      "Intensidade da pobreza, 2000                                    5507 non-null float64\n",
      "Índice de Desenvolvimento Humano Municipal, 2000                5507 non-null float64\n",
      "Taxa bruta de frequência à escola, 2000                         5507 non-null float64\n",
      "Taxa de alfabetização, 2000                                     5507 non-null float64\n",
      "Média de anos de estudo das pessoas de 25 anos ou mais, 2000    5507 non-null float64\n",
      "População de 25 anos ou mais de idade, 1991                     5507 non-null int64\n",
      "População de 25 anos ou mais de idade, 2000                     5507 non-null int64\n",
      "População de 65 anos ou mais de idade, 1991                     5507 non-null int64\n",
      "População de 65 anos ou mais de idade, 2000                     5507 non-null int64\n",
      "População total, 1991                                           5507 non-null int64\n",
      "População total, 2000                                           5507 non-null int64\n",
      "População urbana, 2000                                          5507 non-null int64\n",
      "População rural, 2000                                           5507 non-null int64\n",
      "TAXA DE CRESCIMENTO: MAIS DE 25 ANOS                            5507 non-null int64\n",
      "TAXA DE CRESCIMENTO: MAIS DE 65 ANOS                            5507 non-null int64\n",
      "TAXA DE CRESCIMENTO POPULACIONAL EM 10 ANOS                     5507 non-null int64\n",
      "PROPORÇÃO URBANA DA POPULAÇÃO                                   5507 non-null float64\n",
      "PROPORÇÃO RURAL DA POPULAÇÃO                                    5507 non-null float64\n",
      "dtypes: float64(17), int64(12), object(1)\n",
      "memory usage: 1.3+ MB\n"
     ]
    }
   ],
   "source": [
    "# Tratar os dados/fazer as taxas\n",
    "dados.info() # todos os dados estão preenchidos."
   ]
  },
  {
   "cell_type": "code",
   "execution_count": 0,
   "metadata": {
    "colab": {},
    "colab_type": "code",
    "id": "KteK-d7YM2no"
   },
   "outputs": [],
   "source": [
    "# Os dados estão 100%"
   ]
  },
  {
   "cell_type": "markdown",
   "metadata": {
    "colab_type": "text",
    "id": "6NcYcBYpH4UT"
   },
   "source": [
    "### Criação de dicionários"
   ]
  },
  {
   "cell_type": "markdown",
   "metadata": {
    "colab_type": "text",
    "id": "qSMRRf7sIARd"
   },
   "source": [
    "Estes dicionários tem como objetivo facilitar a visualização dos dados, transformando as diversas colunas em valores numéricos"
   ]
  },
  {
   "cell_type": "code",
   "execution_count": 0,
   "metadata": {
    "colab": {},
    "colab_type": "code",
    "id": "h6o7weqjsHvD"
   },
   "outputs": [],
   "source": [
    "dicionario, dicionario_inverso = {}, {}\n",
    "for item in dados.columns: \n",
    "  dicionario[item] = list(dados.columns).index(item)\n",
    "  dicionario_inverso[list(dados.columns).index(item)] = item\n",
    "#dicionario_inverso"
   ]
  },
  {
   "cell_type": "code",
   "execution_count": 0,
   "metadata": {
    "colab": {},
    "colab_type": "code",
    "id": "CbPRz6_YIbQv"
   },
   "outputs": [],
   "source": [
    "def func_prepara_para_padronizar(dados): #organiza os dados para clusterização\n",
    "  return dados.drop([\"Código\", \"Município\"], axis = 1).rename(columns=dicionario)"
   ]
  },
  {
   "cell_type": "code",
   "execution_count": 501,
   "metadata": {
    "colab": {
     "base_uri": "https://localhost:8080/",
     "height": 217
    },
    "colab_type": "code",
    "id": "DHZCgFTD_99l",
    "outputId": "a07fccbe-430b-4fe8-aabf-5d52c99acfad"
   },
   "outputs": [
    {
     "data": {
      "text/html": [
       "<div>\n",
       "<style scoped>\n",
       "    .dataframe tbody tr th:only-of-type {\n",
       "        vertical-align: middle;\n",
       "    }\n",
       "\n",
       "    .dataframe tbody tr th {\n",
       "        vertical-align: top;\n",
       "    }\n",
       "\n",
       "    .dataframe thead th {\n",
       "        text-align: right;\n",
       "    }\n",
       "</style>\n",
       "<table border=\"1\" class=\"dataframe\">\n",
       "  <thead>\n",
       "    <tr style=\"text-align: right;\">\n",
       "      <th></th>\n",
       "      <th>2</th>\n",
       "      <th>3</th>\n",
       "      <th>4</th>\n",
       "      <th>5</th>\n",
       "      <th>6</th>\n",
       "      <th>7</th>\n",
       "      <th>8</th>\n",
       "      <th>9</th>\n",
       "      <th>10</th>\n",
       "      <th>11</th>\n",
       "      <th>12</th>\n",
       "      <th>13</th>\n",
       "      <th>14</th>\n",
       "      <th>15</th>\n",
       "      <th>16</th>\n",
       "      <th>17</th>\n",
       "      <th>18</th>\n",
       "      <th>19</th>\n",
       "      <th>20</th>\n",
       "      <th>21</th>\n",
       "      <th>22</th>\n",
       "      <th>23</th>\n",
       "      <th>24</th>\n",
       "      <th>25</th>\n",
       "      <th>26</th>\n",
       "      <th>27</th>\n",
       "      <th>28</th>\n",
       "      <th>29</th>\n",
       "    </tr>\n",
       "  </thead>\n",
       "  <tbody>\n",
       "    <tr>\n",
       "      <th>0</th>\n",
       "      <td>136.9</td>\n",
       "      <td>36.3</td>\n",
       "      <td>21.414308</td>\n",
       "      <td>67.58</td>\n",
       "      <td>27.70</td>\n",
       "      <td>2.85</td>\n",
       "      <td>15.64</td>\n",
       "      <td>205.27</td>\n",
       "      <td>0.53</td>\n",
       "      <td>36.89</td>\n",
       "      <td>34.40</td>\n",
       "      <td>0.742</td>\n",
       "      <td>80.17</td>\n",
       "      <td>88.03</td>\n",
       "      <td>4.87</td>\n",
       "      <td>1872</td>\n",
       "      <td>2433</td>\n",
       "      <td>121</td>\n",
       "      <td>227</td>\n",
       "      <td>4227</td>\n",
       "      <td>4971</td>\n",
       "      <td>3096</td>\n",
       "      <td>1875</td>\n",
       "      <td>561</td>\n",
       "      <td>106</td>\n",
       "      <td>744</td>\n",
       "      <td>0.622812</td>\n",
       "      <td>0.377188</td>\n",
       "    </tr>\n",
       "    <tr>\n",
       "      <th>1</th>\n",
       "      <td>897.4</td>\n",
       "      <td>7.2</td>\n",
       "      <td>390.876513</td>\n",
       "      <td>72.92</td>\n",
       "      <td>20.51</td>\n",
       "      <td>2.54</td>\n",
       "      <td>14.48</td>\n",
       "      <td>196.36</td>\n",
       "      <td>0.52</td>\n",
       "      <td>51.90</td>\n",
       "      <td>35.22</td>\n",
       "      <td>0.760</td>\n",
       "      <td>74.57</td>\n",
       "      <td>86.58</td>\n",
       "      <td>4.36</td>\n",
       "      <td>3308</td>\n",
       "      <td>3781</td>\n",
       "      <td>354</td>\n",
       "      <td>459</td>\n",
       "      <td>6492</td>\n",
       "      <td>6446</td>\n",
       "      <td>3927</td>\n",
       "      <td>2519</td>\n",
       "      <td>473</td>\n",
       "      <td>105</td>\n",
       "      <td>-46</td>\n",
       "      <td>0.609215</td>\n",
       "      <td>0.390785</td>\n",
       "    </tr>\n",
       "    <tr>\n",
       "      <th>2</th>\n",
       "      <td>1047.7</td>\n",
       "      <td>10.9</td>\n",
       "      <td>78.641435</td>\n",
       "      <td>69.59</td>\n",
       "      <td>22.36</td>\n",
       "      <td>2.77</td>\n",
       "      <td>21.81</td>\n",
       "      <td>168.31</td>\n",
       "      <td>0.56</td>\n",
       "      <td>47.06</td>\n",
       "      <td>40.32</td>\n",
       "      <td>0.723</td>\n",
       "      <td>74.18</td>\n",
       "      <td>82.45</td>\n",
       "      <td>4.24</td>\n",
       "      <td>4241</td>\n",
       "      <td>5918</td>\n",
       "      <td>446</td>\n",
       "      <td>686</td>\n",
       "      <td>9402</td>\n",
       "      <td>11452</td>\n",
       "      <td>7206</td>\n",
       "      <td>4246</td>\n",
       "      <td>1677</td>\n",
       "      <td>240</td>\n",
       "      <td>2050</td>\n",
       "      <td>0.629235</td>\n",
       "      <td>0.370765</td>\n",
       "    </tr>\n",
       "    <tr>\n",
       "      <th>3</th>\n",
       "      <td>1613.9</td>\n",
       "      <td>73.8</td>\n",
       "      <td>51.184552</td>\n",
       "      <td>70.77</td>\n",
       "      <td>25.61</td>\n",
       "      <td>3.15</td>\n",
       "      <td>24.85</td>\n",
       "      <td>102.14</td>\n",
       "      <td>0.59</td>\n",
       "      <td>44.61</td>\n",
       "      <td>51.04</td>\n",
       "      <td>0.706</td>\n",
       "      <td>81.76</td>\n",
       "      <td>80.74</td>\n",
       "      <td>4.28</td>\n",
       "      <td>33554</td>\n",
       "      <td>44897</td>\n",
       "      <td>3792</td>\n",
       "      <td>4688</td>\n",
       "      <td>99989</td>\n",
       "      <td>119152</td>\n",
       "      <td>70843</td>\n",
       "      <td>48309</td>\n",
       "      <td>11343</td>\n",
       "      <td>896</td>\n",
       "      <td>19163</td>\n",
       "      <td>0.594560</td>\n",
       "      <td>0.405440</td>\n",
       "    </tr>\n",
       "    <tr>\n",
       "      <th>4</th>\n",
       "      <td>1822.4</td>\n",
       "      <td>12.3</td>\n",
       "      <td>172.311549</td>\n",
       "      <td>72.50</td>\n",
       "      <td>21.59</td>\n",
       "      <td>2.41</td>\n",
       "      <td>15.56</td>\n",
       "      <td>253.68</td>\n",
       "      <td>0.58</td>\n",
       "      <td>41.53</td>\n",
       "      <td>31.68</td>\n",
       "      <td>0.778</td>\n",
       "      <td>78.39</td>\n",
       "      <td>87.55</td>\n",
       "      <td>4.78</td>\n",
       "      <td>10163</td>\n",
       "      <td>12406</td>\n",
       "      <td>1084</td>\n",
       "      <td>1595</td>\n",
       "      <td>20689</td>\n",
       "      <td>22360</td>\n",
       "      <td>19022</td>\n",
       "      <td>3338</td>\n",
       "      <td>2243</td>\n",
       "      <td>511</td>\n",
       "      <td>1671</td>\n",
       "      <td>0.850716</td>\n",
       "      <td>0.149284</td>\n",
       "    </tr>\n",
       "  </tbody>\n",
       "</table>\n",
       "</div>"
      ],
      "text/plain": [
       "       2     3           4      5   ...   26     27        28        29\n",
       "0   136.9  36.3   21.414308  67.58  ...  106    744  0.622812  0.377188\n",
       "1   897.4   7.2  390.876513  72.92  ...  105    -46  0.609215  0.390785\n",
       "2  1047.7  10.9   78.641435  69.59  ...  240   2050  0.629235  0.370765\n",
       "3  1613.9  73.8   51.184552  70.77  ...  896  19163  0.594560  0.405440\n",
       "4  1822.4  12.3  172.311549  72.50  ...  511   1671  0.850716  0.149284\n",
       "\n",
       "[5 rows x 28 columns]"
      ]
     },
     "execution_count": 501,
     "metadata": {
      "tags": []
     },
     "output_type": "execute_result"
    }
   ],
   "source": [
    "dados_numericos = func_prepara_para_padronizar(dados); dados_numericos.head()"
   ]
  },
  {
   "cell_type": "markdown",
   "metadata": {
    "colab_type": "text",
    "id": "v1PSqJdN8ZKF"
   },
   "source": [
    "###Padronização dos dados"
   ]
  },
  {
   "cell_type": "code",
   "execution_count": 0,
   "metadata": {
    "colab": {},
    "colab_type": "code",
    "id": "s4MrvDz28Trf"
   },
   "outputs": [],
   "source": [
    "from sklearn.preprocessing  import StandardScaler\n",
    "\n",
    "scaler = StandardScaler()\n",
    "dados_padronizados = scaler.fit_transform(dados_numericos)\n",
    "# dados_padronizados"
   ]
  },
  {
   "cell_type": "markdown",
   "metadata": {
    "colab_type": "text",
    "id": "YvWCaNpxeVIg"
   },
   "source": [
    "### K-Means: Busca pelo melhor número de clusters (Método do cotovelo)"
   ]
  },
  {
   "cell_type": "markdown",
   "metadata": {
    "colab_type": "text",
    "id": "NcDIfks-a_H-"
   },
   "source": [
    "O método Elbow se trata de uma técnica interessante para encontrar o valor ideal do parâmetro k.\n",
    "Basicamente o que o método faz é testar a variância dos dados em relação ao número de clusters.\n",
    "É considerado um valor ideal de k quando o aumento no número de clusters não representa um valor significativo de ganho."
   ]
  },
  {
   "cell_type": "code",
   "execution_count": 0,
   "metadata": {
    "colab": {},
    "colab_type": "code",
    "id": "xmTY8fo8d-hg"
   },
   "outputs": [],
   "source": [
    "from sklearn.cluster import KMeans\n",
    "from scipy.spatial.distance import cdist"
   ]
  },
  {
   "cell_type": "code",
   "execution_count": 0,
   "metadata": {
    "colab": {},
    "colab_type": "code",
    "id": "AIxi0JYrfgaE"
   },
   "outputs": [],
   "source": [
    "X = np.array(dados_padronizados)#; X"
   ]
  },
  {
   "cell_type": "code",
   "execution_count": 0,
   "metadata": {
    "colab": {},
    "colab_type": "code",
    "id": "RYAbD6WkesK9"
   },
   "outputs": [],
   "source": [
    "K = range(1,15)\n",
    "\n",
    "distorcoes = []\n",
    "\n",
    "for k in K:\n",
    "  kmeans_modelo = KMeans(n_clusters = k).fit(X)\n",
    "  kmeans_modelo.fit(X)\n",
    "  distorcoes.append(sum(np.min(cdist(X, kmeans_modelo.cluster_centers_, 'euclidean'), axis=1)) / X.shape[0])\n",
    "\n",
    "plt.plot(K, distorcoes, 'bx-')\n",
    "plt.xlabel('k')\n",
    "plt.ylabel('Distorção')\n",
    "plt.show()"
   ]
  },
  {
   "cell_type": "markdown",
   "metadata": {
    "colab_type": "text",
    "id": "hBjPfdtpESEA"
   },
   "source": [
    "### Dendrograma"
   ]
  },
  {
   "cell_type": "markdown",
   "metadata": {
    "colab_type": "text",
    "id": "Pr6mOuSdC1Uo"
   },
   "source": [
    "A decisão do número de clusters que melhor representem diferentes grupos podem ser escolhidos observando-se o dendrograma. A melhor escolha do número de clusters é o número de linhas verticais no dendrograma cortadas por uma linha horizontal que pode atravessar verticalmente a distância máxima sem intersectar um cluster."
   ]
  },
  {
   "cell_type": "code",
   "execution_count": 0,
   "metadata": {
    "colab": {},
    "colab_type": "code",
    "id": "jvtFOck3Xg5-"
   },
   "outputs": [],
   "source": [
    "from scipy.cluster.hierarchy import dendrogram, linkage # dendrograma\n",
    "\n",
    "modelo = KMeans(n_clusters=15)\n",
    "modelo.fit(X)\n",
    "\n",
    "grupos = pd.DataFrame(modelo.cluster_centers_,\n",
    "             columns=dados_numericos.columns)\n",
    "\n",
    "matriz_de_distancia = linkage(grupos)\n",
    "\n",
    "dendrograma = dendrogram(matriz_de_distancia)\n",
    "dendrograma;"
   ]
  },
  {
   "cell_type": "markdown",
   "metadata": {
    "colab_type": "text",
    "id": "12Tt9yxEEgGS"
   },
   "source": [
    "### Criação do modelo K-Means"
   ]
  },
  {
   "cell_type": "markdown",
   "metadata": {
    "colab_type": "text",
    "id": "mcGlk1IGRl8h"
   },
   "source": [
    "A ideia aqui é fazer uma segunda versão abrangindo mais de 3 categorias, para deixar maior a variação e percepção dos dados, diferente de uma tentativa prévia, e visualizar de uma forma um pouco mais exponêncial um potencial crescimento."
   ]
  },
  {
   "cell_type": "code",
   "execution_count": 0,
   "metadata": {
    "colab": {},
    "colab_type": "code",
    "id": "R_GT5Jj8lXCq"
   },
   "outputs": [],
   "source": [
    "n = 7 # número de clusters\n",
    "#n=3\n",
    "\n",
    "modelo = KMeans(n_clusters=n, random_state=0)\n",
    "modelo.fit(X)"
   ]
  },
  {
   "cell_type": "code",
   "execution_count": 0,
   "metadata": {
    "colab": {},
    "colab_type": "code",
    "id": "jwHGmh6Do0nO"
   },
   "outputs": [],
   "source": [
    "# quantidade em cada grupo\n",
    "pd.Series(modelo.labels_).value_counts()"
   ]
  },
  {
   "cell_type": "markdown",
   "metadata": {
    "colab_type": "text",
    "id": "bx1MiMKhMJBf"
   },
   "source": [
    "### Visualização dos grupos"
   ]
  },
  {
   "cell_type": "code",
   "execution_count": 0,
   "metadata": {
    "colab": {},
    "colab_type": "code",
    "id": "su6NK08-rUSZ"
   },
   "outputs": [],
   "source": [
    "grupos = pd.DataFrame(modelo.cluster_centers_, columns=dados_numericos.columns)\n",
    "grupos.transpose().plot.bar(\n",
    "    subplots = True, figsize=(20, 15), sharex = False, rot=0);"
   ]
  },
  {
   "cell_type": "code",
   "execution_count": 0,
   "metadata": {
    "colab": {},
    "colab_type": "code",
    "id": "ON9hgeVwjdUF"
   },
   "outputs": [],
   "source": [
    "#grupos"
   ]
  },
  {
   "cell_type": "markdown",
   "metadata": {
    "colab_type": "text",
    "id": "tUTk6XOyb-0m"
   },
   "source": [
    "### Adição do grupo a tabela"
   ]
  },
  {
   "cell_type": "code",
   "execution_count": 0,
   "metadata": {
    "colab": {},
    "colab_type": "code",
    "id": "PSiQDT0kfViK"
   },
   "outputs": [],
   "source": [
    "dados_agrupados = dados.copy()\n",
    "dados_agrupados['GRUPOS'] = modelo.labels_#; dados_agrupados.sample(3)"
   ]
  },
  {
   "cell_type": "markdown",
   "metadata": {
    "colab_type": "text",
    "id": "cgBt9cDqrEh8"
   },
   "source": [
    "### Análise por grupo: média"
   ]
  },
  {
   "cell_type": "code",
   "execution_count": 0,
   "metadata": {
    "colab": {},
    "colab_type": "code",
    "id": "kKsUmdgK8ZFC"
   },
   "outputs": [],
   "source": [
    "número_de_municipios = pd.Series(modelo.labels_).value_counts().sort_index()"
   ]
  },
  {
   "cell_type": "code",
   "execution_count": 0,
   "metadata": {
    "colab": {},
    "colab_type": "code",
    "id": "KyI5VP3prJY6"
   },
   "outputs": [],
   "source": [
    "medias_grupos = dados_agrupados.drop(\"Código\", axis=1).set_index(\"GRUPOS\").groupby(\"GRUPOS\").aggregate(np.mean).round(2)\n",
    "medias_grupos[\"Quantidade de cidades no grupo\"] = número_de_municipios; medias_grupos"
   ]
  },
  {
   "cell_type": "code",
   "execution_count": 0,
   "metadata": {
    "colab": {},
    "colab_type": "code",
    "id": "UjH-P9yGWvt_"
   },
   "outputs": [],
   "source": [
    "#medias_grupos.sort_values(\"População total, 2000\", ascending=False)"
   ]
  },
  {
   "cell_type": "markdown",
   "metadata": {
    "colab_type": "text",
    "id": "YFtrbBaBb930"
   },
   "source": [
    "Nesta análise é possivel notar uma relação bem clara entre os 4 primeiros grupos, onde há uma relação direta com o crescimento de renda, população e desenvolvimento humano no geral. Há uma relação direta entre os melhores lugares a ser investidos: onde há mais clientes e onde a renda é superior. Vou utilizar um dicionário para guardar esta sequência."
   ]
  },
  {
   "cell_type": "code",
   "execution_count": 0,
   "metadata": {
    "colab": {},
    "colab_type": "code",
    "id": "hSDaEpyKWbDV"
   },
   "outputs": [],
   "source": [
    "########## verificar\n",
    "dicionario_nivel_cidade = {3:'A', 2:'B', 5:'C', 0:'D', 1:'E', 6:'F', 4:'G'}\n",
    "###########"
   ]
  },
  {
   "cell_type": "code",
   "execution_count": 0,
   "metadata": {
    "colab": {},
    "colab_type": "code",
    "id": "y8ss-FKG5K07"
   },
   "outputs": [],
   "source": [
    "medias_grupos.sort_values(\"População total, 2000\", ascending=False).rename(index=dicionario_nivel_cidade)"
   ]
  },
  {
   "cell_type": "markdown",
   "metadata": {
    "colab_type": "text",
    "id": "pFS5Ylygz0Di"
   },
   "source": [
    "### Principais parâmetros por grupos:"
   ]
  },
  {
   "cell_type": "code",
   "execution_count": 0,
   "metadata": {
    "colab": {},
    "colab_type": "code",
    "id": "-ZUMKyMm0ZNG"
   },
   "outputs": [],
   "source": [
    "grupos_renomeados = grupos.copy()\n",
    "grupos_renomeados = grupos_renomeados.rename(columns=dicionario_inverso)#; grupos_renomeados"
   ]
  },
  {
   "cell_type": "code",
   "execution_count": 0,
   "metadata": {
    "colab": {},
    "colab_type": "code",
    "id": "uZHFluqLt4ke"
   },
   "outputs": [],
   "source": [
    "# Verifica características relevantes de um determinado grupo\n",
    "grupo_para_verificar = 2\n",
    "grupos_renomeados.loc[grupo_para_verificar].sort_values(ascending = False)"
   ]
  },
  {
   "cell_type": "code",
   "execution_count": 0,
   "metadata": {
    "colab": {},
    "colab_type": "code",
    "id": "8-i1zzYM1HBS"
   },
   "outputs": [],
   "source": [
    "dados_agrupados[dados_agrupados['GRUPOS'] == grupo_para_verificar].sample(5) # verifica a tabela por grupo"
   ]
  },
  {
   "cell_type": "markdown",
   "metadata": {
    "colab_type": "text",
    "id": "dcHR_gTMSp6l"
   },
   "source": [
    "### Modelo Preditivo"
   ]
  },
  {
   "cell_type": "code",
   "execution_count": 0,
   "metadata": {
    "colab": {},
    "colab_type": "code",
    "id": "dESphT9-jidY"
   },
   "outputs": [],
   "source": [
    "# Previsão pelo modelo\n",
    "amostra = dados.sample()\n",
    "amostra_drop = func_prepara_para_padronizar(amostra)\n",
    "amostra_padronizada = scaler.transform(amostra_drop)#; amostra_padronizada"
   ]
  },
  {
   "cell_type": "code",
   "execution_count": 0,
   "metadata": {
    "colab": {},
    "colab_type": "code",
    "id": "a2e4Oz4joaeB"
   },
   "outputs": [],
   "source": [
    "#print(modelo.predict(amostra_padronizada))\n",
    "#print(dados_agrupados['GRUPOS'].iloc[amostra_drop.index].values)"
   ]
  },
  {
   "cell_type": "code",
   "execution_count": 0,
   "metadata": {
    "colab": {},
    "colab_type": "code",
    "id": "iLoK4lGch1wM"
   },
   "outputs": [],
   "source": [
    "def probabilidade_de_proximidade(amostra_padronizada):\n",
    "  distancias = modelo.transform(amostra_padronizada)\n",
    "  distancias2 = 1/distancias\n",
    "  soma = distancias2.sum()\n",
    "  proporcoes = distancias2 / soma\n",
    "\n",
    "  grupo = 0\n",
    "  for item in proporcoes[0]:\n",
    "    print(f'grupo {dicionario_nivel_cidade[grupo]} ou {grupo}: {round(item*100,2)}%')\n",
    "    grupo += 1"
   ]
  },
  {
   "cell_type": "code",
   "execution_count": 0,
   "metadata": {
    "colab": {},
    "colab_type": "code",
    "id": "GultonxPh_rk"
   },
   "outputs": [],
   "source": [
    "x = probabilidade_de_proximidade(amostra_padronizada); x"
   ]
  },
  {
   "cell_type": "code",
   "execution_count": 0,
   "metadata": {
    "colab": {},
    "colab_type": "code",
    "id": "HN5iMvNyOBJ6"
   },
   "outputs": [],
   "source": []
  }
 ],
 "metadata": {
  "accelerator": "GPU",
  "colab": {
   "collapsed_sections": [
    "8QKSkqiugYKA"
   ],
   "name": "Principal - ibope_project... - more clusters.ipynb",
   "provenance": []
  },
  "kernelspec": {
   "display_name": "Python 3",
   "language": "python",
   "name": "python3"
  },
  "language_info": {
   "codemirror_mode": {
    "name": "ipython",
    "version": 3
   },
   "file_extension": ".py",
   "mimetype": "text/x-python",
   "name": "python",
   "nbconvert_exporter": "python",
   "pygments_lexer": "ipython3",
   "version": "3.7.4"
  }
 },
 "nbformat": 4,
 "nbformat_minor": 1
}
