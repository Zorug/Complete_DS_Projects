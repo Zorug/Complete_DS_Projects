{
 "cells": [
  {
   "cell_type": "markdown",
   "metadata": {
    "colab_type": "text",
    "id": "mqK16Qdc_dnw"
   },
   "source": [
    "# Case de Processo Seletivo: IBOPE Inteligência"
   ]
  },
  {
   "cell_type": "code",
   "execution_count": 5,
   "metadata": {
    "colab": {},
    "colab_type": "code",
    "id": "g9sF8qKT8Dra"
   },
   "outputs": [],
   "source": [
    "import pandas as pd\n",
    "import numpy as np\n",
    "import matplotlib.pyplot as plt\n",
    "%matplotlib inline\n",
    "import seaborn as sns"
   ]
  },
  {
   "cell_type": "code",
   "execution_count": 6,
   "metadata": {
    "colab": {},
    "colab_type": "code",
    "id": "G9kTYX1b8s3_"
   },
   "outputs": [],
   "source": [
    "xls = '../Dados/Case - Data Science IBOPE.XLS'"
   ]
  },
  {
   "cell_type": "code",
   "execution_count": 7,
   "metadata": {
    "colab": {
     "base_uri": "https://localhost:8080/",
     "height": 357
    },
    "colab_type": "code",
    "id": "ftOShcRv8ItG",
    "outputId": "20e145aa-1acb-4065-b2a4-817393d28c05"
   },
   "outputs": [
    {
     "data": {
      "text/html": [
       "<div>\n",
       "<style scoped>\n",
       "    .dataframe tbody tr th:only-of-type {\n",
       "        vertical-align: middle;\n",
       "    }\n",
       "\n",
       "    .dataframe tbody tr th {\n",
       "        vertical-align: top;\n",
       "    }\n",
       "\n",
       "    .dataframe thead th {\n",
       "        text-align: right;\n",
       "    }\n",
       "</style>\n",
       "<table border=\"1\" class=\"dataframe\">\n",
       "  <thead>\n",
       "    <tr style=\"text-align: right;\">\n",
       "      <th></th>\n",
       "      <th>Código</th>\n",
       "      <th>Município</th>\n",
       "      <th>Área (km²)</th>\n",
       "      <th>Densidade demográfica, 2000</th>\n",
       "      <th>Distância à capital (km)</th>\n",
       "      <th>Esperança de vida ao nascer, 2000</th>\n",
       "      <th>Mortalidade até um ano de idade, 2000</th>\n",
       "      <th>Taxa de fecundidade total, 2000</th>\n",
       "      <th>Percentual de pessoas de 25 anos ou mais analfabetas, 2000</th>\n",
       "      <th>Renda per Capita, 2000</th>\n",
       "      <th>...</th>\n",
       "      <th>Taxa de alfabetização, 2000</th>\n",
       "      <th>Média de anos de estudo das pessoas de 25 anos ou mais, 2000</th>\n",
       "      <th>População de 25 anos ou mais de idade, 1991</th>\n",
       "      <th>População de 25 anos ou mais de idade, 2000</th>\n",
       "      <th>População de 65 anos ou mais de idade, 1991</th>\n",
       "      <th>População de 65 anos ou mais de idade, 2000</th>\n",
       "      <th>População total, 1991</th>\n",
       "      <th>População total, 2000</th>\n",
       "      <th>População urbana, 2000</th>\n",
       "      <th>População rural, 2000</th>\n",
       "    </tr>\n",
       "  </thead>\n",
       "  <tbody>\n",
       "    <tr>\n",
       "      <td>3168</td>\n",
       "      <td>431260</td>\n",
       "      <td>Muçum (RS)</td>\n",
       "      <td>109.1</td>\n",
       "      <td>43.3</td>\n",
       "      <td>114.467178</td>\n",
       "      <td>76.16</td>\n",
       "      <td>9.40</td>\n",
       "      <td>2.02</td>\n",
       "      <td>8.25</td>\n",
       "      <td>312.83</td>\n",
       "      <td>...</td>\n",
       "      <td>93.36</td>\n",
       "      <td>5.33</td>\n",
       "      <td>2666</td>\n",
       "      <td>3088</td>\n",
       "      <td>398</td>\n",
       "      <td>554</td>\n",
       "      <td>4420</td>\n",
       "      <td>4728</td>\n",
       "      <td>3675</td>\n",
       "      <td>1053</td>\n",
       "    </tr>\n",
       "    <tr>\n",
       "      <td>3618</td>\n",
       "      <td>251090</td>\n",
       "      <td>Paulista (PB)</td>\n",
       "      <td>563.4</td>\n",
       "      <td>20.0</td>\n",
       "      <td>310.060706</td>\n",
       "      <td>66.93</td>\n",
       "      <td>35.92</td>\n",
       "      <td>2.42</td>\n",
       "      <td>48.48</td>\n",
       "      <td>92.96</td>\n",
       "      <td>...</td>\n",
       "      <td>58.12</td>\n",
       "      <td>2.53</td>\n",
       "      <td>4591</td>\n",
       "      <td>5501</td>\n",
       "      <td>703</td>\n",
       "      <td>815</td>\n",
       "      <td>11004</td>\n",
       "      <td>11266</td>\n",
       "      <td>4442</td>\n",
       "      <td>6824</td>\n",
       "    </tr>\n",
       "    <tr>\n",
       "      <td>4504</td>\n",
       "      <td>412430</td>\n",
       "      <td>Santo Antônio do Paraíso (PR)</td>\n",
       "      <td>167.6</td>\n",
       "      <td>16.6</td>\n",
       "      <td>255.866030</td>\n",
       "      <td>67.37</td>\n",
       "      <td>24.72</td>\n",
       "      <td>2.76</td>\n",
       "      <td>23.89</td>\n",
       "      <td>170.31</td>\n",
       "      <td>...</td>\n",
       "      <td>81.35</td>\n",
       "      <td>4.72</td>\n",
       "      <td>1175</td>\n",
       "      <td>1453</td>\n",
       "      <td>139</td>\n",
       "      <td>179</td>\n",
       "      <td>2488</td>\n",
       "      <td>2790</td>\n",
       "      <td>1718</td>\n",
       "      <td>1072</td>\n",
       "    </tr>\n",
       "  </tbody>\n",
       "</table>\n",
       "<p>3 rows × 25 columns</p>\n",
       "</div>"
      ],
      "text/plain": [
       "      Código                      Município  Área (km²)  \\\n",
       "3168  431260                     Muçum (RS)       109.1   \n",
       "3618  251090                  Paulista (PB)       563.4   \n",
       "4504  412430  Santo Antônio do Paraíso (PR)       167.6   \n",
       "\n",
       "      Densidade demográfica, 2000  Distância à capital (km)  \\\n",
       "3168                         43.3                114.467178   \n",
       "3618                         20.0                310.060706   \n",
       "4504                         16.6                255.866030   \n",
       "\n",
       "      Esperança de vida ao nascer, 2000  \\\n",
       "3168                              76.16   \n",
       "3618                              66.93   \n",
       "4504                              67.37   \n",
       "\n",
       "      Mortalidade até um ano de idade, 2000  Taxa de fecundidade total, 2000  \\\n",
       "3168                                   9.40                             2.02   \n",
       "3618                                  35.92                             2.42   \n",
       "4504                                  24.72                             2.76   \n",
       "\n",
       "      Percentual de pessoas de 25 anos ou mais analfabetas, 2000  \\\n",
       "3168                                               8.25            \n",
       "3618                                              48.48            \n",
       "4504                                              23.89            \n",
       "\n",
       "      Renda per Capita, 2000  ...  Taxa de alfabetização, 2000  \\\n",
       "3168                  312.83  ...                        93.36   \n",
       "3618                   92.96  ...                        58.12   \n",
       "4504                  170.31  ...                        81.35   \n",
       "\n",
       "      Média de anos de estudo das pessoas de 25 anos ou mais, 2000  \\\n",
       "3168                                               5.33              \n",
       "3618                                               2.53              \n",
       "4504                                               4.72              \n",
       "\n",
       "      População de 25 anos ou mais de idade, 1991  \\\n",
       "3168                                         2666   \n",
       "3618                                         4591   \n",
       "4504                                         1175   \n",
       "\n",
       "      População de 25 anos ou mais de idade, 2000  \\\n",
       "3168                                         3088   \n",
       "3618                                         5501   \n",
       "4504                                         1453   \n",
       "\n",
       "      População de 65 anos ou mais de idade, 1991  \\\n",
       "3168                                          398   \n",
       "3618                                          703   \n",
       "4504                                          139   \n",
       "\n",
       "      População de 65 anos ou mais de idade, 2000  População total, 1991  \\\n",
       "3168                                          554                   4420   \n",
       "3618                                          815                  11004   \n",
       "4504                                          179                   2488   \n",
       "\n",
       "      População total, 2000  População urbana, 2000  População rural, 2000  \n",
       "3168                   4728                    3675                   1053  \n",
       "3618                  11266                    4442                   6824  \n",
       "4504                   2790                    1718                   1072  \n",
       "\n",
       "[3 rows x 25 columns]"
      ]
     },
     "execution_count": 7,
     "metadata": {},
     "output_type": "execute_result"
    }
   ],
   "source": [
    "dados = pd.read_excel(xls, sheet_name='Informações_Municipais', header=3)\n",
    "dados = dados.rename(columns={'Taxa bruta de freqüência à escola, 2000':'Taxa bruta de frequência à escola, 2000'})\n",
    "dados = dados.rename(columns={'Média de anos de estudo das pessoas de 25 anos ou mais de idade, 2000':'Média de anos de estudo das pessoas de 25 anos ou mais, 2000'})\n",
    "dados.sample(3)"
   ]
  },
  {
   "cell_type": "markdown",
   "metadata": {
    "colab_type": "text",
    "id": "lxZEpV1mHlMj"
   },
   "source": [
    "### Adicionando novos dados ao Dataset"
   ]
  },
  {
   "cell_type": "code",
   "execution_count": 8,
   "metadata": {
    "colab": {
     "base_uri": "https://localhost:8080/",
     "height": 34
    },
    "colab_type": "code",
    "id": "IkRpnOYj4Kqb",
    "outputId": "2d791893-0a40-414e-d65c-485122c40997"
   },
   "outputs": [
    {
     "data": {
      "text/plain": [
       "(5507, 30)"
      ]
     },
     "execution_count": 8,
     "metadata": {},
     "output_type": "execute_result"
    }
   ],
   "source": [
    "dados2 = dados.copy()\n",
    "dados2['TAXA DE CRESCIMENTO: MAIS DE 25 ANOS'] = dados['População de 25 anos ou mais de idade, 2000'] - dados['População de 25 anos ou mais de idade, 1991']\n",
    "dados2['TAXA DE CRESCIMENTO: MAIS DE 65 ANOS'] = dados['População de 65 anos ou mais de idade, 2000'] - dados['População de 65 anos ou mais de idade, 1991']\n",
    "dados2['TAXA DE CRESCIMENTO POPULACIONAL EM 10 ANOS'] = dados['População total, 2000'] - dados['População total, 1991']\n",
    "dados2['PROPORÇÃO URBANA DA POPULAÇÃO'] = dados['População urbana, 2000'] / dados['População total, 2000']\n",
    "dados2['PROPORÇÃO RURAL DA POPULAÇÃO'] = dados['População rural, 2000'] / dados['População total, 2000']\n",
    "dados = dados2\n",
    "\n",
    "dados.shape # Tamanho do dataset"
   ]
  },
  {
   "cell_type": "markdown",
   "metadata": {
    "colab_type": "text",
    "id": "50oGjvOJHvhY"
   },
   "source": [
    "### Verificação de dados nulos no Dataset"
   ]
  },
  {
   "cell_type": "code",
   "execution_count": 9,
   "metadata": {
    "colab": {
     "base_uri": "https://localhost:8080/",
     "height": 638
    },
    "colab_type": "code",
    "id": "cutPWEFs0OGw",
    "outputId": "b3423e4a-dfaa-47b4-91ed-a18e2a2a95ae"
   },
   "outputs": [
    {
     "name": "stdout",
     "output_type": "stream",
     "text": [
      "<class 'pandas.core.frame.DataFrame'>\n",
      "RangeIndex: 5507 entries, 0 to 5506\n",
      "Data columns (total 30 columns):\n",
      "Código                                                          5507 non-null int64\n",
      "Município                                                       5507 non-null object\n",
      "Área (km²)                                                      5507 non-null float64\n",
      "Densidade demográfica, 2000                                     5507 non-null float64\n",
      "Distância à capital (km)                                        5507 non-null float64\n",
      "Esperança de vida ao nascer, 2000                               5507 non-null float64\n",
      "Mortalidade até um ano de idade, 2000                           5507 non-null float64\n",
      "Taxa de fecundidade total, 2000                                 5507 non-null float64\n",
      "Percentual de pessoas de 25 anos ou mais analfabetas, 2000      5507 non-null float64\n",
      "Renda per Capita, 2000                                          5507 non-null float64\n",
      "Índice de Gini, 2000                                            5507 non-null float64\n",
      "Intensidade da indigência, 2000                                 5507 non-null float64\n",
      "Intensidade da pobreza, 2000                                    5507 non-null float64\n",
      "Índice de Desenvolvimento Humano Municipal, 2000                5507 non-null float64\n",
      "Taxa bruta de frequência à escola, 2000                         5507 non-null float64\n",
      "Taxa de alfabetização, 2000                                     5507 non-null float64\n",
      "Média de anos de estudo das pessoas de 25 anos ou mais, 2000    5507 non-null float64\n",
      "População de 25 anos ou mais de idade, 1991                     5507 non-null int64\n",
      "População de 25 anos ou mais de idade, 2000                     5507 non-null int64\n",
      "População de 65 anos ou mais de idade, 1991                     5507 non-null int64\n",
      "População de 65 anos ou mais de idade, 2000                     5507 non-null int64\n",
      "População total, 1991                                           5507 non-null int64\n",
      "População total, 2000                                           5507 non-null int64\n",
      "População urbana, 2000                                          5507 non-null int64\n",
      "População rural, 2000                                           5507 non-null int64\n",
      "TAXA DE CRESCIMENTO: MAIS DE 25 ANOS                            5507 non-null int64\n",
      "TAXA DE CRESCIMENTO: MAIS DE 65 ANOS                            5507 non-null int64\n",
      "TAXA DE CRESCIMENTO POPULACIONAL EM 10 ANOS                     5507 non-null int64\n",
      "PROPORÇÃO URBANA DA POPULAÇÃO                                   5507 non-null float64\n",
      "PROPORÇÃO RURAL DA POPULAÇÃO                                    5507 non-null float64\n",
      "dtypes: float64(17), int64(12), object(1)\n",
      "memory usage: 1.3+ MB\n"
     ]
    }
   ],
   "source": [
    "# Tratar os dados/fazer as taxas\n",
    "dados.info() # todos os dados estão preenchidos."
   ]
  },
  {
   "cell_type": "code",
   "execution_count": 10,
   "metadata": {
    "colab": {},
    "colab_type": "code",
    "id": "KteK-d7YM2no"
   },
   "outputs": [],
   "source": [
    "# Os dados estão 100%"
   ]
  },
  {
   "cell_type": "markdown",
   "metadata": {
    "colab_type": "text",
    "id": "6NcYcBYpH4UT"
   },
   "source": [
    "### Criação de dicionários"
   ]
  },
  {
   "cell_type": "markdown",
   "metadata": {
    "colab_type": "text",
    "id": "qSMRRf7sIARd"
   },
   "source": [
    "Estes dicionários tem como objetivo facilitar a visualização dos dados, transformando as diversas colunas em valores numéricos"
   ]
  },
  {
   "cell_type": "code",
   "execution_count": 11,
   "metadata": {
    "colab": {},
    "colab_type": "code",
    "id": "h6o7weqjsHvD"
   },
   "outputs": [],
   "source": [
    "dicionario, dicionario_inverso = {}, {}\n",
    "for item in dados.columns: \n",
    "  dicionario[item] = list(dados.columns).index(item)\n",
    "  dicionario_inverso[list(dados.columns).index(item)] = item\n",
    "#dicionario_inverso"
   ]
  },
  {
   "cell_type": "code",
   "execution_count": 12,
   "metadata": {
    "colab": {},
    "colab_type": "code",
    "id": "CbPRz6_YIbQv"
   },
   "outputs": [],
   "source": [
    "def func_prepara_para_padronizar(dados): #organiza os dados para clusterização\n",
    "  return dados.drop([\"Código\", \"Município\"], axis = 1).rename(columns=dicionario)"
   ]
  },
  {
   "cell_type": "code",
   "execution_count": 13,
   "metadata": {
    "colab": {
     "base_uri": "https://localhost:8080/",
     "height": 217
    },
    "colab_type": "code",
    "id": "DHZCgFTD_99l",
    "outputId": "a07fccbe-430b-4fe8-aabf-5d52c99acfad"
   },
   "outputs": [
    {
     "data": {
      "text/html": [
       "<div>\n",
       "<style scoped>\n",
       "    .dataframe tbody tr th:only-of-type {\n",
       "        vertical-align: middle;\n",
       "    }\n",
       "\n",
       "    .dataframe tbody tr th {\n",
       "        vertical-align: top;\n",
       "    }\n",
       "\n",
       "    .dataframe thead th {\n",
       "        text-align: right;\n",
       "    }\n",
       "</style>\n",
       "<table border=\"1\" class=\"dataframe\">\n",
       "  <thead>\n",
       "    <tr style=\"text-align: right;\">\n",
       "      <th></th>\n",
       "      <th>2</th>\n",
       "      <th>3</th>\n",
       "      <th>4</th>\n",
       "      <th>5</th>\n",
       "      <th>6</th>\n",
       "      <th>7</th>\n",
       "      <th>8</th>\n",
       "      <th>9</th>\n",
       "      <th>10</th>\n",
       "      <th>11</th>\n",
       "      <th>...</th>\n",
       "      <th>20</th>\n",
       "      <th>21</th>\n",
       "      <th>22</th>\n",
       "      <th>23</th>\n",
       "      <th>24</th>\n",
       "      <th>25</th>\n",
       "      <th>26</th>\n",
       "      <th>27</th>\n",
       "      <th>28</th>\n",
       "      <th>29</th>\n",
       "    </tr>\n",
       "  </thead>\n",
       "  <tbody>\n",
       "    <tr>\n",
       "      <td>0</td>\n",
       "      <td>136.9</td>\n",
       "      <td>36.3</td>\n",
       "      <td>21.414308</td>\n",
       "      <td>67.58</td>\n",
       "      <td>27.70</td>\n",
       "      <td>2.85</td>\n",
       "      <td>15.64</td>\n",
       "      <td>205.27</td>\n",
       "      <td>0.53</td>\n",
       "      <td>36.89</td>\n",
       "      <td>...</td>\n",
       "      <td>227</td>\n",
       "      <td>4227</td>\n",
       "      <td>4971</td>\n",
       "      <td>3096</td>\n",
       "      <td>1875</td>\n",
       "      <td>561</td>\n",
       "      <td>106</td>\n",
       "      <td>744</td>\n",
       "      <td>0.622812</td>\n",
       "      <td>0.377188</td>\n",
       "    </tr>\n",
       "    <tr>\n",
       "      <td>1</td>\n",
       "      <td>897.4</td>\n",
       "      <td>7.2</td>\n",
       "      <td>390.876513</td>\n",
       "      <td>72.92</td>\n",
       "      <td>20.51</td>\n",
       "      <td>2.54</td>\n",
       "      <td>14.48</td>\n",
       "      <td>196.36</td>\n",
       "      <td>0.52</td>\n",
       "      <td>51.90</td>\n",
       "      <td>...</td>\n",
       "      <td>459</td>\n",
       "      <td>6492</td>\n",
       "      <td>6446</td>\n",
       "      <td>3927</td>\n",
       "      <td>2519</td>\n",
       "      <td>473</td>\n",
       "      <td>105</td>\n",
       "      <td>-46</td>\n",
       "      <td>0.609215</td>\n",
       "      <td>0.390785</td>\n",
       "    </tr>\n",
       "    <tr>\n",
       "      <td>2</td>\n",
       "      <td>1047.7</td>\n",
       "      <td>10.9</td>\n",
       "      <td>78.641435</td>\n",
       "      <td>69.59</td>\n",
       "      <td>22.36</td>\n",
       "      <td>2.77</td>\n",
       "      <td>21.81</td>\n",
       "      <td>168.31</td>\n",
       "      <td>0.56</td>\n",
       "      <td>47.06</td>\n",
       "      <td>...</td>\n",
       "      <td>686</td>\n",
       "      <td>9402</td>\n",
       "      <td>11452</td>\n",
       "      <td>7206</td>\n",
       "      <td>4246</td>\n",
       "      <td>1677</td>\n",
       "      <td>240</td>\n",
       "      <td>2050</td>\n",
       "      <td>0.629235</td>\n",
       "      <td>0.370765</td>\n",
       "    </tr>\n",
       "    <tr>\n",
       "      <td>3</td>\n",
       "      <td>1613.9</td>\n",
       "      <td>73.8</td>\n",
       "      <td>51.184552</td>\n",
       "      <td>70.77</td>\n",
       "      <td>25.61</td>\n",
       "      <td>3.15</td>\n",
       "      <td>24.85</td>\n",
       "      <td>102.14</td>\n",
       "      <td>0.59</td>\n",
       "      <td>44.61</td>\n",
       "      <td>...</td>\n",
       "      <td>4688</td>\n",
       "      <td>99989</td>\n",
       "      <td>119152</td>\n",
       "      <td>70843</td>\n",
       "      <td>48309</td>\n",
       "      <td>11343</td>\n",
       "      <td>896</td>\n",
       "      <td>19163</td>\n",
       "      <td>0.594560</td>\n",
       "      <td>0.405440</td>\n",
       "    </tr>\n",
       "    <tr>\n",
       "      <td>4</td>\n",
       "      <td>1822.4</td>\n",
       "      <td>12.3</td>\n",
       "      <td>172.311549</td>\n",
       "      <td>72.50</td>\n",
       "      <td>21.59</td>\n",
       "      <td>2.41</td>\n",
       "      <td>15.56</td>\n",
       "      <td>253.68</td>\n",
       "      <td>0.58</td>\n",
       "      <td>41.53</td>\n",
       "      <td>...</td>\n",
       "      <td>1595</td>\n",
       "      <td>20689</td>\n",
       "      <td>22360</td>\n",
       "      <td>19022</td>\n",
       "      <td>3338</td>\n",
       "      <td>2243</td>\n",
       "      <td>511</td>\n",
       "      <td>1671</td>\n",
       "      <td>0.850716</td>\n",
       "      <td>0.149284</td>\n",
       "    </tr>\n",
       "  </tbody>\n",
       "</table>\n",
       "<p>5 rows × 28 columns</p>\n",
       "</div>"
      ],
      "text/plain": [
       "       2     3           4      5      6     7      8       9     10     11  \\\n",
       "0   136.9  36.3   21.414308  67.58  27.70  2.85  15.64  205.27  0.53  36.89   \n",
       "1   897.4   7.2  390.876513  72.92  20.51  2.54  14.48  196.36  0.52  51.90   \n",
       "2  1047.7  10.9   78.641435  69.59  22.36  2.77  21.81  168.31  0.56  47.06   \n",
       "3  1613.9  73.8   51.184552  70.77  25.61  3.15  24.85  102.14  0.59  44.61   \n",
       "4  1822.4  12.3  172.311549  72.50  21.59  2.41  15.56  253.68  0.58  41.53   \n",
       "\n",
       "   ...    20     21      22     23     24     25   26     27        28  \\\n",
       "0  ...   227   4227    4971   3096   1875    561  106    744  0.622812   \n",
       "1  ...   459   6492    6446   3927   2519    473  105    -46  0.609215   \n",
       "2  ...   686   9402   11452   7206   4246   1677  240   2050  0.629235   \n",
       "3  ...  4688  99989  119152  70843  48309  11343  896  19163  0.594560   \n",
       "4  ...  1595  20689   22360  19022   3338   2243  511   1671  0.850716   \n",
       "\n",
       "         29  \n",
       "0  0.377188  \n",
       "1  0.390785  \n",
       "2  0.370765  \n",
       "3  0.405440  \n",
       "4  0.149284  \n",
       "\n",
       "[5 rows x 28 columns]"
      ]
     },
     "execution_count": 13,
     "metadata": {},
     "output_type": "execute_result"
    }
   ],
   "source": [
    "dados_numericos = func_prepara_para_padronizar(dados); dados_numericos.head()"
   ]
  },
  {
   "cell_type": "markdown",
   "metadata": {
    "colab_type": "text",
    "id": "v1PSqJdN8ZKF"
   },
   "source": [
    "###Padronização dos dados"
   ]
  },
  {
   "cell_type": "code",
   "execution_count": 14,
   "metadata": {
    "colab": {},
    "colab_type": "code",
    "id": "s4MrvDz28Trf"
   },
   "outputs": [],
   "source": [
    "from sklearn.preprocessing  import StandardScaler\n",
    "\n",
    "scaler = StandardScaler()\n",
    "dados_padronizados = scaler.fit_transform(dados_numericos)\n",
    "# dados_padronizados"
   ]
  },
  {
   "cell_type": "markdown",
   "metadata": {
    "colab_type": "text",
    "id": "YvWCaNpxeVIg"
   },
   "source": [
    "### K-Means: Busca pelo melhor número de clusters (Método do cotovelo)"
   ]
  },
  {
   "cell_type": "markdown",
   "metadata": {
    "colab_type": "text",
    "id": "NcDIfks-a_H-"
   },
   "source": [
    "O método Elbow se trata de uma técnica interessante para encontrar o valor ideal do parâmetro k.\n",
    "Basicamente o que o método faz é testar a variância dos dados em relação ao número de clusters.\n",
    "É considerado um valor ideal de k quando o aumento no número de clusters não representa um valor significativo de ganho."
   ]
  },
  {
   "cell_type": "code",
   "execution_count": 15,
   "metadata": {
    "colab": {},
    "colab_type": "code",
    "id": "xmTY8fo8d-hg"
   },
   "outputs": [],
   "source": [
    "from sklearn.cluster import KMeans\n",
    "from scipy.spatial.distance import cdist"
   ]
  },
  {
   "cell_type": "code",
   "execution_count": 16,
   "metadata": {
    "colab": {},
    "colab_type": "code",
    "id": "AIxi0JYrfgaE"
   },
   "outputs": [],
   "source": [
    "X = np.array(dados_padronizados)#; X"
   ]
  },
  {
   "cell_type": "code",
   "execution_count": 17,
   "metadata": {
    "colab": {},
    "colab_type": "code",
    "id": "RYAbD6WkesK9"
   },
   "outputs": [
    {
     "data": {
      "image/png": "[encoded data removed]",
      "text/plain": [
       "<Figure size 432x288 with 1 Axes>"
      ]
     },
     "metadata": {
      "needs_background": "light"
     },
     "output_type": "display_data"
    }
   ],
   "source": [
    "K = range(1,15)\n",
    "\n",
    "distorcoes = []\n",
    "\n",
    "for k in K:\n",
    "  kmeans_modelo = KMeans(n_clusters = k).fit(X)\n",
    "  kmeans_modelo.fit(X)\n",
    "  distorcoes.append(sum(np.min(cdist(X, kmeans_modelo.cluster_centers_, 'euclidean'), axis=1)) / X.shape[0])\n",
    "\n",
    "plt.plot(K, distorcoes, 'bx-')\n",
    "plt.xlabel('k')\n",
    "plt.ylabel('Distorção')\n",
    "plt.show()"
   ]
  },
  {
   "cell_type": "markdown",
   "metadata": {
    "colab_type": "text",
    "id": "hBjPfdtpESEA"
   },
   "source": [
    "### Dendrograma"
   ]
  },
  {
   "cell_type": "markdown",
   "metadata": {
    "colab_type": "text",
    "id": "Pr6mOuSdC1Uo"
   },
   "source": [
    "A decisão do número de clusters que melhor representem diferentes grupos podem ser escolhidos observando-se o dendrograma. A melhor escolha do número de clusters é o número de linhas verticais no dendrograma cortadas por uma linha horizontal que pode atravessar verticalmente a distância máxima sem intersectar um cluster."
   ]
  },
  {
   "cell_type": "code",
   "execution_count": 18,
   "metadata": {
    "colab": {},
    "colab_type": "code",
    "id": "jvtFOck3Xg5-"
   },
   "outputs": [
    {
     "data": {
      "image/png": "[encoded data removed]",
      "text/plain": [
       "<Figure size 432x288 with 1 Axes>"
      ]
     },
     "metadata": {
      "needs_background": "light"
     },
     "output_type": "display_data"
    }
   ],
   "source": [
    "from scipy.cluster.hierarchy import dendrogram, linkage # dendrograma\n",
    "\n",
    "modelo = KMeans(n_clusters=15)\n",
    "modelo.fit(X)\n",
    "\n",
    "grupos = pd.DataFrame(modelo.cluster_centers_,\n",
    "             columns=dados_numericos.columns)\n",
    "\n",
    "matriz_de_distancia = linkage(grupos)\n",
    "\n",
    "dendrograma = dendrogram(matriz_de_distancia)\n",
    "dendrograma;"
   ]
  },
  {
   "cell_type": "markdown",
   "metadata": {
    "colab_type": "text",
    "id": "12Tt9yxEEgGS"
   },
   "source": [
    "### Criação do modelo K-Means"
   ]
  },
  {
   "cell_type": "markdown",
   "metadata": {
    "colab_type": "text",
    "id": "mcGlk1IGRl8h"
   },
   "source": [
    "A ideia aqui é fazer uma segunda versão abrangindo mais de 3 categorias, para deixar maior a variação e percepção dos dados, diferente de uma tentativa prévia, e visualizar de uma forma um pouco mais exponêncial um potencial crescimento."
   ]
  },
  {
   "cell_type": "code",
   "execution_count": 19,
   "metadata": {
    "colab": {},
    "colab_type": "code",
    "id": "R_GT5Jj8lXCq"
   },
   "outputs": [
    {
     "data": {
      "text/plain": [
       "KMeans(algorithm='auto', copy_x=True, init='k-means++', max_iter=300,\n",
       "       n_clusters=7, n_init=10, n_jobs=None, precompute_distances='auto',\n",
       "       random_state=0, tol=0.0001, verbose=0)"
      ]
     },
     "execution_count": 19,
     "metadata": {},
     "output_type": "execute_result"
    }
   ],
   "source": [
    "n = 7 # número de clusters\n",
    "#n=3\n",
    "\n",
    "modelo = KMeans(n_clusters=n, random_state=0)\n",
    "modelo.fit(X)"
   ]
  },
  {
   "cell_type": "code",
   "execution_count": 20,
   "metadata": {
    "colab": {},
    "colab_type": "code",
    "id": "jwHGmh6Do0nO"
   },
   "outputs": [
    {
     "data": {
      "text/plain": [
       "3    1427\n",
       "1    1423\n",
       "4    1392\n",
       "5    1220\n",
       "0      43\n",
       "6       1\n",
       "2       1\n",
       "dtype: int64"
      ]
     },
     "execution_count": 20,
     "metadata": {},
     "output_type": "execute_result"
    }
   ],
   "source": [
    "# quantidade em cada grupo\n",
    "pd.Series(modelo.labels_).value_counts()"
   ]
  },
  {
   "cell_type": "markdown",
   "metadata": {
    "colab_type": "text",
    "id": "bx1MiMKhMJBf"
   },
   "source": [
    "### Visualização dos grupos"
   ]
  },
  {
   "cell_type": "code",
   "execution_count": 21,
   "metadata": {
    "colab": {},
    "colab_type": "code",
    "id": "su6NK08-rUSZ"
   },
   "outputs": [
    {
     "data": {
      "image/png": "[encoded data removed]",
      "text/plain": [
       "<Figure size 1440x1080 with 7 Axes>"
      ]
     },
     "metadata": {
      "needs_background": "light"
     },
     "output_type": "display_data"
    }
   ],
   "source": [
    "grupos = pd.DataFrame(modelo.cluster_centers_, columns=dados_numericos.columns)\n",
    "grupos.transpose().plot.bar(\n",
    "    subplots = True, figsize=(20, 15), sharex = False, rot=0);"
   ]
  },
  {
   "cell_type": "code",
   "execution_count": 22,
   "metadata": {
    "colab": {},
    "colab_type": "code",
    "id": "ON9hgeVwjdUF"
   },
   "outputs": [],
   "source": [
    "#grupos"
   ]
  },
  {
   "cell_type": "markdown",
   "metadata": {
    "colab_type": "text",
    "id": "tUTk6XOyb-0m"
   },
   "source": [
    "### Adição do grupo a tabela"
   ]
  },
  {
   "cell_type": "code",
   "execution_count": 23,
   "metadata": {
    "colab": {},
    "colab_type": "code",
    "id": "PSiQDT0kfViK"
   },
   "outputs": [],
   "source": [
    "dados_agrupados = dados.copy()\n",
    "dados_agrupados['GRUPOS'] = modelo.labels_#; dados_agrupados.sample(3)"
   ]
  },
  {
   "cell_type": "markdown",
   "metadata": {
    "colab_type": "text",
    "id": "cgBt9cDqrEh8"
   },
   "source": [
    "### Análise por grupo: média"
   ]
  },
  {
   "cell_type": "code",
   "execution_count": 24,
   "metadata": {
    "colab": {},
    "colab_type": "code",
    "id": "kKsUmdgK8ZFC"
   },
   "outputs": [],
   "source": [
    "número_de_municipios = pd.Series(modelo.labels_).value_counts().sort_index()"
   ]
  },
  {
   "cell_type": "code",
   "execution_count": 25,
   "metadata": {
    "colab": {},
    "colab_type": "code",
    "id": "KyI5VP3prJY6"
   },
   "outputs": [
    {
     "data": {
      "text/html": [
       "<div>\n",
       "<style scoped>\n",
       "    .dataframe tbody tr th:only-of-type {\n",
       "        vertical-align: middle;\n",
       "    }\n",
       "\n",
       "    .dataframe tbody tr th {\n",
       "        vertical-align: top;\n",
       "    }\n",
       "\n",
       "    .dataframe thead th {\n",
       "        text-align: right;\n",
       "    }\n",
       "</style>\n",
       "<table border=\"1\" class=\"dataframe\">\n",
       "  <thead>\n",
       "    <tr style=\"text-align: right;\">\n",
       "      <th></th>\n",
       "      <th>Área (km²)</th>\n",
       "      <th>Densidade demográfica, 2000</th>\n",
       "      <th>Distância à capital (km)</th>\n",
       "      <th>Esperança de vida ao nascer, 2000</th>\n",
       "      <th>Mortalidade até um ano de idade, 2000</th>\n",
       "      <th>Taxa de fecundidade total, 2000</th>\n",
       "      <th>Percentual de pessoas de 25 anos ou mais analfabetas, 2000</th>\n",
       "      <th>Renda per Capita, 2000</th>\n",
       "      <th>Índice de Gini, 2000</th>\n",
       "      <th>Intensidade da indigência, 2000</th>\n",
       "      <th>...</th>\n",
       "      <th>População total, 1991</th>\n",
       "      <th>População total, 2000</th>\n",
       "      <th>População urbana, 2000</th>\n",
       "      <th>População rural, 2000</th>\n",
       "      <th>TAXA DE CRESCIMENTO: MAIS DE 25 ANOS</th>\n",
       "      <th>TAXA DE CRESCIMENTO: MAIS DE 65 ANOS</th>\n",
       "      <th>TAXA DE CRESCIMENTO POPULACIONAL EM 10 ANOS</th>\n",
       "      <th>PROPORÇÃO URBANA DA POPULAÇÃO</th>\n",
       "      <th>PROPORÇÃO RURAL DA POPULAÇÃO</th>\n",
       "      <th>Quantidade de cidades no grupo</th>\n",
       "    </tr>\n",
       "    <tr>\n",
       "      <th>GRUPOS</th>\n",
       "      <th></th>\n",
       "      <th></th>\n",
       "      <th></th>\n",
       "      <th></th>\n",
       "      <th></th>\n",
       "      <th></th>\n",
       "      <th></th>\n",
       "      <th></th>\n",
       "      <th></th>\n",
       "      <th></th>\n",
       "      <th></th>\n",
       "      <th></th>\n",
       "      <th></th>\n",
       "      <th></th>\n",
       "      <th></th>\n",
       "      <th></th>\n",
       "      <th></th>\n",
       "      <th></th>\n",
       "      <th></th>\n",
       "      <th></th>\n",
       "      <th></th>\n",
       "    </tr>\n",
       "  </thead>\n",
       "  <tbody>\n",
       "    <tr>\n",
       "      <td>0</td>\n",
       "      <td>1024.48</td>\n",
       "      <td>3928.98</td>\n",
       "      <td>32.80</td>\n",
       "      <td>70.43</td>\n",
       "      <td>23.09</td>\n",
       "      <td>1.99</td>\n",
       "      <td>8.04</td>\n",
       "      <td>395.83</td>\n",
       "      <td>0.58</td>\n",
       "      <td>60.98</td>\n",
       "      <td>...</td>\n",
       "      <td>697441.26</td>\n",
       "      <td>830588.40</td>\n",
       "      <td>822549.53</td>\n",
       "      <td>8038.86</td>\n",
       "      <td>101414.67</td>\n",
       "      <td>14331.00</td>\n",
       "      <td>133147.14</td>\n",
       "      <td>0.99</td>\n",
       "      <td>0.01</td>\n",
       "      <td>43</td>\n",
       "    </tr>\n",
       "    <tr>\n",
       "      <td>1</td>\n",
       "      <td>2204.67</td>\n",
       "      <td>36.74</td>\n",
       "      <td>252.26</td>\n",
       "      <td>65.82</td>\n",
       "      <td>41.25</td>\n",
       "      <td>3.06</td>\n",
       "      <td>33.26</td>\n",
       "      <td>115.74</td>\n",
       "      <td>0.58</td>\n",
       "      <td>50.52</td>\n",
       "      <td>...</td>\n",
       "      <td>16001.88</td>\n",
       "      <td>17790.52</td>\n",
       "      <td>11048.21</td>\n",
       "      <td>6742.31</td>\n",
       "      <td>1584.40</td>\n",
       "      <td>249.98</td>\n",
       "      <td>1788.64</td>\n",
       "      <td>0.57</td>\n",
       "      <td>0.43</td>\n",
       "      <td>1423</td>\n",
       "    </tr>\n",
       "    <tr>\n",
       "      <td>2</td>\n",
       "      <td>1528.50</td>\n",
       "      <td>6808.10</td>\n",
       "      <td>0.00</td>\n",
       "      <td>70.66</td>\n",
       "      <td>21.74</td>\n",
       "      <td>1.88</td>\n",
       "      <td>5.62</td>\n",
       "      <td>610.04</td>\n",
       "      <td>0.62</td>\n",
       "      <td>74.59</td>\n",
       "      <td>...</td>\n",
       "      <td>9649519.00</td>\n",
       "      <td>10434252.00</td>\n",
       "      <td>9813187.00</td>\n",
       "      <td>621065.00</td>\n",
       "      <td>719728.00</td>\n",
       "      <td>170900.00</td>\n",
       "      <td>784733.00</td>\n",
       "      <td>0.94</td>\n",
       "      <td>0.06</td>\n",
       "      <td>1</td>\n",
       "    </tr>\n",
       "    <tr>\n",
       "      <td>3</td>\n",
       "      <td>581.34</td>\n",
       "      <td>25.05</td>\n",
       "      <td>255.11</td>\n",
       "      <td>71.04</td>\n",
       "      <td>21.31</td>\n",
       "      <td>2.49</td>\n",
       "      <td>16.31</td>\n",
       "      <td>203.42</td>\n",
       "      <td>0.53</td>\n",
       "      <td>40.21</td>\n",
       "      <td>...</td>\n",
       "      <td>7525.58</td>\n",
       "      <td>7832.36</td>\n",
       "      <td>4212.95</td>\n",
       "      <td>3619.41</td>\n",
       "      <td>607.01</td>\n",
       "      <td>142.26</td>\n",
       "      <td>306.78</td>\n",
       "      <td>0.51</td>\n",
       "      <td>0.49</td>\n",
       "      <td>1427</td>\n",
       "    </tr>\n",
       "    <tr>\n",
       "      <td>4</td>\n",
       "      <td>1155.75</td>\n",
       "      <td>163.25</td>\n",
       "      <td>241.44</td>\n",
       "      <td>71.49</td>\n",
       "      <td>19.01</td>\n",
       "      <td>2.37</td>\n",
       "      <td>13.04</td>\n",
       "      <td>274.56</td>\n",
       "      <td>0.54</td>\n",
       "      <td>52.32</td>\n",
       "      <td>...</td>\n",
       "      <td>37450.72</td>\n",
       "      <td>45850.89</td>\n",
       "      <td>41735.23</td>\n",
       "      <td>4115.66</td>\n",
       "      <td>6067.73</td>\n",
       "      <td>841.82</td>\n",
       "      <td>8400.17</td>\n",
       "      <td>0.85</td>\n",
       "      <td>0.15</td>\n",
       "      <td>1392</td>\n",
       "    </tr>\n",
       "    <tr>\n",
       "      <td>5</td>\n",
       "      <td>2384.47</td>\n",
       "      <td>30.36</td>\n",
       "      <td>273.72</td>\n",
       "      <td>61.78</td>\n",
       "      <td>58.28</td>\n",
       "      <td>3.67</td>\n",
       "      <td>47.34</td>\n",
       "      <td>69.90</td>\n",
       "      <td>0.59</td>\n",
       "      <td>56.82</td>\n",
       "      <td>...</td>\n",
       "      <td>13167.60</td>\n",
       "      <td>14323.44</td>\n",
       "      <td>5806.82</td>\n",
       "      <td>8516.61</td>\n",
       "      <td>994.50</td>\n",
       "      <td>164.11</td>\n",
       "      <td>1155.84</td>\n",
       "      <td>0.39</td>\n",
       "      <td>0.61</td>\n",
       "      <td>1220</td>\n",
       "    </tr>\n",
       "    <tr>\n",
       "      <td>6</td>\n",
       "      <td>1264.20</td>\n",
       "      <td>4627.90</td>\n",
       "      <td>0.00</td>\n",
       "      <td>70.26</td>\n",
       "      <td>21.83</td>\n",
       "      <td>1.87</td>\n",
       "      <td>4.86</td>\n",
       "      <td>596.65</td>\n",
       "      <td>0.62</td>\n",
       "      <td>65.02</td>\n",
       "      <td>...</td>\n",
       "      <td>5480768.00</td>\n",
       "      <td>5857904.00</td>\n",
       "      <td>5857904.00</td>\n",
       "      <td>0.00</td>\n",
       "      <td>335764.00</td>\n",
       "      <td>131037.00</td>\n",
       "      <td>377136.00</td>\n",
       "      <td>1.00</td>\n",
       "      <td>0.00</td>\n",
       "      <td>1</td>\n",
       "    </tr>\n",
       "  </tbody>\n",
       "</table>\n",
       "<p>7 rows × 29 columns</p>\n",
       "</div>"
      ],
      "text/plain": [
       "        Área (km²)  Densidade demográfica, 2000  Distância à capital (km)  \\\n",
       "GRUPOS                                                                      \n",
       "0          1024.48                      3928.98                     32.80   \n",
       "1          2204.67                        36.74                    252.26   \n",
       "2          1528.50                      6808.10                      0.00   \n",
       "3           581.34                        25.05                    255.11   \n",
       "4          1155.75                       163.25                    241.44   \n",
       "5          2384.47                        30.36                    273.72   \n",
       "6          1264.20                      4627.90                      0.00   \n",
       "\n",
       "        Esperança de vida ao nascer, 2000  \\\n",
       "GRUPOS                                      \n",
       "0                                   70.43   \n",
       "1                                   65.82   \n",
       "2                                   70.66   \n",
       "3                                   71.04   \n",
       "4                                   71.49   \n",
       "5                                   61.78   \n",
       "6                                   70.26   \n",
       "\n",
       "        Mortalidade até um ano de idade, 2000  \\\n",
       "GRUPOS                                          \n",
       "0                                       23.09   \n",
       "1                                       41.25   \n",
       "2                                       21.74   \n",
       "3                                       21.31   \n",
       "4                                       19.01   \n",
       "5                                       58.28   \n",
       "6                                       21.83   \n",
       "\n",
       "        Taxa de fecundidade total, 2000  \\\n",
       "GRUPOS                                    \n",
       "0                                  1.99   \n",
       "1                                  3.06   \n",
       "2                                  1.88   \n",
       "3                                  2.49   \n",
       "4                                  2.37   \n",
       "5                                  3.67   \n",
       "6                                  1.87   \n",
       "\n",
       "        Percentual de pessoas de 25 anos ou mais analfabetas, 2000  \\\n",
       "GRUPOS                                                               \n",
       "0                                                    8.04            \n",
       "1                                                   33.26            \n",
       "2                                                    5.62            \n",
       "3                                                   16.31            \n",
       "4                                                   13.04            \n",
       "5                                                   47.34            \n",
       "6                                                    4.86            \n",
       "\n",
       "        Renda per Capita, 2000  Índice de Gini, 2000  \\\n",
       "GRUPOS                                                 \n",
       "0                       395.83                  0.58   \n",
       "1                       115.74                  0.58   \n",
       "2                       610.04                  0.62   \n",
       "3                       203.42                  0.53   \n",
       "4                       274.56                  0.54   \n",
       "5                        69.90                  0.59   \n",
       "6                       596.65                  0.62   \n",
       "\n",
       "        Intensidade da indigência, 2000  ...  População total, 1991  \\\n",
       "GRUPOS                                   ...                          \n",
       "0                                 60.98  ...              697441.26   \n",
       "1                                 50.52  ...               16001.88   \n",
       "2                                 74.59  ...             9649519.00   \n",
       "3                                 40.21  ...                7525.58   \n",
       "4                                 52.32  ...               37450.72   \n",
       "5                                 56.82  ...               13167.60   \n",
       "6                                 65.02  ...             5480768.00   \n",
       "\n",
       "        População total, 2000  População urbana, 2000  População rural, 2000  \\\n",
       "GRUPOS                                                                         \n",
       "0                   830588.40               822549.53                8038.86   \n",
       "1                    17790.52                11048.21                6742.31   \n",
       "2                 10434252.00              9813187.00              621065.00   \n",
       "3                     7832.36                 4212.95                3619.41   \n",
       "4                    45850.89                41735.23                4115.66   \n",
       "5                    14323.44                 5806.82                8516.61   \n",
       "6                  5857904.00              5857904.00                   0.00   \n",
       "\n",
       "        TAXA DE CRESCIMENTO: MAIS DE 25 ANOS  \\\n",
       "GRUPOS                                         \n",
       "0                                  101414.67   \n",
       "1                                    1584.40   \n",
       "2                                  719728.00   \n",
       "3                                     607.01   \n",
       "4                                    6067.73   \n",
       "5                                     994.50   \n",
       "6                                  335764.00   \n",
       "\n",
       "        TAXA DE CRESCIMENTO: MAIS DE 65 ANOS  \\\n",
       "GRUPOS                                         \n",
       "0                                   14331.00   \n",
       "1                                     249.98   \n",
       "2                                  170900.00   \n",
       "3                                     142.26   \n",
       "4                                     841.82   \n",
       "5                                     164.11   \n",
       "6                                  131037.00   \n",
       "\n",
       "        TAXA DE CRESCIMENTO POPULACIONAL EM 10 ANOS  \\\n",
       "GRUPOS                                                \n",
       "0                                         133147.14   \n",
       "1                                           1788.64   \n",
       "2                                         784733.00   \n",
       "3                                            306.78   \n",
       "4                                           8400.17   \n",
       "5                                           1155.84   \n",
       "6                                         377136.00   \n",
       "\n",
       "        PROPORÇÃO URBANA DA POPULAÇÃO  PROPORÇÃO RURAL DA POPULAÇÃO  \\\n",
       "GRUPOS                                                                \n",
       "0                                0.99                          0.01   \n",
       "1                                0.57                          0.43   \n",
       "2                                0.94                          0.06   \n",
       "3                                0.51                          0.49   \n",
       "4                                0.85                          0.15   \n",
       "5                                0.39                          0.61   \n",
       "6                                1.00                          0.00   \n",
       "\n",
       "        Quantidade de cidades no grupo  \n",
       "GRUPOS                                  \n",
       "0                                   43  \n",
       "1                                 1423  \n",
       "2                                    1  \n",
       "3                                 1427  \n",
       "4                                 1392  \n",
       "5                                 1220  \n",
       "6                                    1  \n",
       "\n",
       "[7 rows x 29 columns]"
      ]
     },
     "execution_count": 25,
     "metadata": {},
     "output_type": "execute_result"
    }
   ],
   "source": [
    "medias_grupos = dados_agrupados.drop(\"Código\", axis=1).set_index(\"GRUPOS\").groupby(\"GRUPOS\").aggregate(np.mean).round(2)\n",
    "medias_grupos[\"Quantidade de cidades no grupo\"] = número_de_municipios; medias_grupos"
   ]
  },
  {
   "cell_type": "code",
   "execution_count": 26,
   "metadata": {
    "colab": {},
    "colab_type": "code",
    "id": "UjH-P9yGWvt_"
   },
   "outputs": [],
   "source": [
    "#medias_grupos.sort_values(\"População total, 2000\", ascending=False)"
   ]
  },
  {
   "cell_type": "markdown",
   "metadata": {
    "colab_type": "text",
    "id": "YFtrbBaBb930"
   },
   "source": [
    "Nesta análise é possivel notar uma relação bem clara entre os 4 primeiros grupos, onde há uma relação direta com o crescimento de renda, população e desenvolvimento humano no geral. Há uma relação direta entre os melhores lugares a ser investidos: onde há mais clientes e onde a renda é superior. Vou utilizar um dicionário para guardar esta sequência."
   ]
  },
  {
   "cell_type": "code",
   "execution_count": 27,
   "metadata": {
    "colab": {},
    "colab_type": "code",
    "id": "hSDaEpyKWbDV"
   },
   "outputs": [],
   "source": [
    "########## verificar\n",
    "dicionario_nivel_cidade = {3:'A', 2:'B', 5:'C', 0:'D', 1:'E', 6:'F', 4:'G'}\n",
    "###########"
   ]
  },
  {
   "cell_type": "code",
   "execution_count": 28,
   "metadata": {
    "colab": {},
    "colab_type": "code",
    "id": "y8ss-FKG5K07"
   },
   "outputs": [
    {
     "data": {
      "text/html": [
       "<div>\n",
       "<style scoped>\n",
       "    .dataframe tbody tr th:only-of-type {\n",
       "        vertical-align: middle;\n",
       "    }\n",
       "\n",
       "    .dataframe tbody tr th {\n",
       "        vertical-align: top;\n",
       "    }\n",
       "\n",
       "    .dataframe thead th {\n",
       "        text-align: right;\n",
       "    }\n",
       "</style>\n",
       "<table border=\"1\" class=\"dataframe\">\n",
       "  <thead>\n",
       "    <tr style=\"text-align: right;\">\n",
       "      <th></th>\n",
       "      <th>Área (km²)</th>\n",
       "      <th>Densidade demográfica, 2000</th>\n",
       "      <th>Distância à capital (km)</th>\n",
       "      <th>Esperança de vida ao nascer, 2000</th>\n",
       "      <th>Mortalidade até um ano de idade, 2000</th>\n",
       "      <th>Taxa de fecundidade total, 2000</th>\n",
       "      <th>Percentual de pessoas de 25 anos ou mais analfabetas, 2000</th>\n",
       "      <th>Renda per Capita, 2000</th>\n",
       "      <th>Índice de Gini, 2000</th>\n",
       "      <th>Intensidade da indigência, 2000</th>\n",
       "      <th>...</th>\n",
       "      <th>População total, 1991</th>\n",
       "      <th>População total, 2000</th>\n",
       "      <th>População urbana, 2000</th>\n",
       "      <th>População rural, 2000</th>\n",
       "      <th>TAXA DE CRESCIMENTO: MAIS DE 25 ANOS</th>\n",
       "      <th>TAXA DE CRESCIMENTO: MAIS DE 65 ANOS</th>\n",
       "      <th>TAXA DE CRESCIMENTO POPULACIONAL EM 10 ANOS</th>\n",
       "      <th>PROPORÇÃO URBANA DA POPULAÇÃO</th>\n",
       "      <th>PROPORÇÃO RURAL DA POPULAÇÃO</th>\n",
       "      <th>Quantidade de cidades no grupo</th>\n",
       "    </tr>\n",
       "    <tr>\n",
       "      <th>GRUPOS</th>\n",
       "      <th></th>\n",
       "      <th></th>\n",
       "      <th></th>\n",
       "      <th></th>\n",
       "      <th></th>\n",
       "      <th></th>\n",
       "      <th></th>\n",
       "      <th></th>\n",
       "      <th></th>\n",
       "      <th></th>\n",
       "      <th></th>\n",
       "      <th></th>\n",
       "      <th></th>\n",
       "      <th></th>\n",
       "      <th></th>\n",
       "      <th></th>\n",
       "      <th></th>\n",
       "      <th></th>\n",
       "      <th></th>\n",
       "      <th></th>\n",
       "      <th></th>\n",
       "    </tr>\n",
       "  </thead>\n",
       "  <tbody>\n",
       "    <tr>\n",
       "      <td>B</td>\n",
       "      <td>1528.50</td>\n",
       "      <td>6808.10</td>\n",
       "      <td>0.00</td>\n",
       "      <td>70.66</td>\n",
       "      <td>21.74</td>\n",
       "      <td>1.88</td>\n",
       "      <td>5.62</td>\n",
       "      <td>610.04</td>\n",
       "      <td>0.62</td>\n",
       "      <td>74.59</td>\n",
       "      <td>...</td>\n",
       "      <td>9649519.00</td>\n",
       "      <td>10434252.00</td>\n",
       "      <td>9813187.00</td>\n",
       "      <td>621065.00</td>\n",
       "      <td>719728.00</td>\n",
       "      <td>170900.00</td>\n",
       "      <td>784733.00</td>\n",
       "      <td>0.94</td>\n",
       "      <td>0.06</td>\n",
       "      <td>1</td>\n",
       "    </tr>\n",
       "    <tr>\n",
       "      <td>F</td>\n",
       "      <td>1264.20</td>\n",
       "      <td>4627.90</td>\n",
       "      <td>0.00</td>\n",
       "      <td>70.26</td>\n",
       "      <td>21.83</td>\n",
       "      <td>1.87</td>\n",
       "      <td>4.86</td>\n",
       "      <td>596.65</td>\n",
       "      <td>0.62</td>\n",
       "      <td>65.02</td>\n",
       "      <td>...</td>\n",
       "      <td>5480768.00</td>\n",
       "      <td>5857904.00</td>\n",
       "      <td>5857904.00</td>\n",
       "      <td>0.00</td>\n",
       "      <td>335764.00</td>\n",
       "      <td>131037.00</td>\n",
       "      <td>377136.00</td>\n",
       "      <td>1.00</td>\n",
       "      <td>0.00</td>\n",
       "      <td>1</td>\n",
       "    </tr>\n",
       "    <tr>\n",
       "      <td>D</td>\n",
       "      <td>1024.48</td>\n",
       "      <td>3928.98</td>\n",
       "      <td>32.80</td>\n",
       "      <td>70.43</td>\n",
       "      <td>23.09</td>\n",
       "      <td>1.99</td>\n",
       "      <td>8.04</td>\n",
       "      <td>395.83</td>\n",
       "      <td>0.58</td>\n",
       "      <td>60.98</td>\n",
       "      <td>...</td>\n",
       "      <td>697441.26</td>\n",
       "      <td>830588.40</td>\n",
       "      <td>822549.53</td>\n",
       "      <td>8038.86</td>\n",
       "      <td>101414.67</td>\n",
       "      <td>14331.00</td>\n",
       "      <td>133147.14</td>\n",
       "      <td>0.99</td>\n",
       "      <td>0.01</td>\n",
       "      <td>43</td>\n",
       "    </tr>\n",
       "    <tr>\n",
       "      <td>G</td>\n",
       "      <td>1155.75</td>\n",
       "      <td>163.25</td>\n",
       "      <td>241.44</td>\n",
       "      <td>71.49</td>\n",
       "      <td>19.01</td>\n",
       "      <td>2.37</td>\n",
       "      <td>13.04</td>\n",
       "      <td>274.56</td>\n",
       "      <td>0.54</td>\n",
       "      <td>52.32</td>\n",
       "      <td>...</td>\n",
       "      <td>37450.72</td>\n",
       "      <td>45850.89</td>\n",
       "      <td>41735.23</td>\n",
       "      <td>4115.66</td>\n",
       "      <td>6067.73</td>\n",
       "      <td>841.82</td>\n",
       "      <td>8400.17</td>\n",
       "      <td>0.85</td>\n",
       "      <td>0.15</td>\n",
       "      <td>1392</td>\n",
       "    </tr>\n",
       "    <tr>\n",
       "      <td>E</td>\n",
       "      <td>2204.67</td>\n",
       "      <td>36.74</td>\n",
       "      <td>252.26</td>\n",
       "      <td>65.82</td>\n",
       "      <td>41.25</td>\n",
       "      <td>3.06</td>\n",
       "      <td>33.26</td>\n",
       "      <td>115.74</td>\n",
       "      <td>0.58</td>\n",
       "      <td>50.52</td>\n",
       "      <td>...</td>\n",
       "      <td>16001.88</td>\n",
       "      <td>17790.52</td>\n",
       "      <td>11048.21</td>\n",
       "      <td>6742.31</td>\n",
       "      <td>1584.40</td>\n",
       "      <td>249.98</td>\n",
       "      <td>1788.64</td>\n",
       "      <td>0.57</td>\n",
       "      <td>0.43</td>\n",
       "      <td>1423</td>\n",
       "    </tr>\n",
       "    <tr>\n",
       "      <td>C</td>\n",
       "      <td>2384.47</td>\n",
       "      <td>30.36</td>\n",
       "      <td>273.72</td>\n",
       "      <td>61.78</td>\n",
       "      <td>58.28</td>\n",
       "      <td>3.67</td>\n",
       "      <td>47.34</td>\n",
       "      <td>69.90</td>\n",
       "      <td>0.59</td>\n",
       "      <td>56.82</td>\n",
       "      <td>...</td>\n",
       "      <td>13167.60</td>\n",
       "      <td>14323.44</td>\n",
       "      <td>5806.82</td>\n",
       "      <td>8516.61</td>\n",
       "      <td>994.50</td>\n",
       "      <td>164.11</td>\n",
       "      <td>1155.84</td>\n",
       "      <td>0.39</td>\n",
       "      <td>0.61</td>\n",
       "      <td>1220</td>\n",
       "    </tr>\n",
       "    <tr>\n",
       "      <td>A</td>\n",
       "      <td>581.34</td>\n",
       "      <td>25.05</td>\n",
       "      <td>255.11</td>\n",
       "      <td>71.04</td>\n",
       "      <td>21.31</td>\n",
       "      <td>2.49</td>\n",
       "      <td>16.31</td>\n",
       "      <td>203.42</td>\n",
       "      <td>0.53</td>\n",
       "      <td>40.21</td>\n",
       "      <td>...</td>\n",
       "      <td>7525.58</td>\n",
       "      <td>7832.36</td>\n",
       "      <td>4212.95</td>\n",
       "      <td>3619.41</td>\n",
       "      <td>607.01</td>\n",
       "      <td>142.26</td>\n",
       "      <td>306.78</td>\n",
       "      <td>0.51</td>\n",
       "      <td>0.49</td>\n",
       "      <td>1427</td>\n",
       "    </tr>\n",
       "  </tbody>\n",
       "</table>\n",
       "<p>7 rows × 29 columns</p>\n",
       "</div>"
      ],
      "text/plain": [
       "        Área (km²)  Densidade demográfica, 2000  Distância à capital (km)  \\\n",
       "GRUPOS                                                                      \n",
       "B          1528.50                      6808.10                      0.00   \n",
       "F          1264.20                      4627.90                      0.00   \n",
       "D          1024.48                      3928.98                     32.80   \n",
       "G          1155.75                       163.25                    241.44   \n",
       "E          2204.67                        36.74                    252.26   \n",
       "C          2384.47                        30.36                    273.72   \n",
       "A           581.34                        25.05                    255.11   \n",
       "\n",
       "        Esperança de vida ao nascer, 2000  \\\n",
       "GRUPOS                                      \n",
       "B                                   70.66   \n",
       "F                                   70.26   \n",
       "D                                   70.43   \n",
       "G                                   71.49   \n",
       "E                                   65.82   \n",
       "C                                   61.78   \n",
       "A                                   71.04   \n",
       "\n",
       "        Mortalidade até um ano de idade, 2000  \\\n",
       "GRUPOS                                          \n",
       "B                                       21.74   \n",
       "F                                       21.83   \n",
       "D                                       23.09   \n",
       "G                                       19.01   \n",
       "E                                       41.25   \n",
       "C                                       58.28   \n",
       "A                                       21.31   \n",
       "\n",
       "        Taxa de fecundidade total, 2000  \\\n",
       "GRUPOS                                    \n",
       "B                                  1.88   \n",
       "F                                  1.87   \n",
       "D                                  1.99   \n",
       "G                                  2.37   \n",
       "E                                  3.06   \n",
       "C                                  3.67   \n",
       "A                                  2.49   \n",
       "\n",
       "        Percentual de pessoas de 25 anos ou mais analfabetas, 2000  \\\n",
       "GRUPOS                                                               \n",
       "B                                                    5.62            \n",
       "F                                                    4.86            \n",
       "D                                                    8.04            \n",
       "G                                                   13.04            \n",
       "E                                                   33.26            \n",
       "C                                                   47.34            \n",
       "A                                                   16.31            \n",
       "\n",
       "        Renda per Capita, 2000  Índice de Gini, 2000  \\\n",
       "GRUPOS                                                 \n",
       "B                       610.04                  0.62   \n",
       "F                       596.65                  0.62   \n",
       "D                       395.83                  0.58   \n",
       "G                       274.56                  0.54   \n",
       "E                       115.74                  0.58   \n",
       "C                        69.90                  0.59   \n",
       "A                       203.42                  0.53   \n",
       "\n",
       "        Intensidade da indigência, 2000  ...  População total, 1991  \\\n",
       "GRUPOS                                   ...                          \n",
       "B                                 74.59  ...             9649519.00   \n",
       "F                                 65.02  ...             5480768.00   \n",
       "D                                 60.98  ...              697441.26   \n",
       "G                                 52.32  ...               37450.72   \n",
       "E                                 50.52  ...               16001.88   \n",
       "C                                 56.82  ...               13167.60   \n",
       "A                                 40.21  ...                7525.58   \n",
       "\n",
       "        População total, 2000  População urbana, 2000  População rural, 2000  \\\n",
       "GRUPOS                                                                         \n",
       "B                 10434252.00              9813187.00              621065.00   \n",
       "F                  5857904.00              5857904.00                   0.00   \n",
       "D                   830588.40               822549.53                8038.86   \n",
       "G                    45850.89                41735.23                4115.66   \n",
       "E                    17790.52                11048.21                6742.31   \n",
       "C                    14323.44                 5806.82                8516.61   \n",
       "A                     7832.36                 4212.95                3619.41   \n",
       "\n",
       "        TAXA DE CRESCIMENTO: MAIS DE 25 ANOS  \\\n",
       "GRUPOS                                         \n",
       "B                                  719728.00   \n",
       "F                                  335764.00   \n",
       "D                                  101414.67   \n",
       "G                                    6067.73   \n",
       "E                                    1584.40   \n",
       "C                                     994.50   \n",
       "A                                     607.01   \n",
       "\n",
       "        TAXA DE CRESCIMENTO: MAIS DE 65 ANOS  \\\n",
       "GRUPOS                                         \n",
       "B                                  170900.00   \n",
       "F                                  131037.00   \n",
       "D                                   14331.00   \n",
       "G                                     841.82   \n",
       "E                                     249.98   \n",
       "C                                     164.11   \n",
       "A                                     142.26   \n",
       "\n",
       "        TAXA DE CRESCIMENTO POPULACIONAL EM 10 ANOS  \\\n",
       "GRUPOS                                                \n",
       "B                                         784733.00   \n",
       "F                                         377136.00   \n",
       "D                                         133147.14   \n",
       "G                                           8400.17   \n",
       "E                                           1788.64   \n",
       "C                                           1155.84   \n",
       "A                                            306.78   \n",
       "\n",
       "        PROPORÇÃO URBANA DA POPULAÇÃO  PROPORÇÃO RURAL DA POPULAÇÃO  \\\n",
       "GRUPOS                                                                \n",
       "B                                0.94                          0.06   \n",
       "F                                1.00                          0.00   \n",
       "D                                0.99                          0.01   \n",
       "G                                0.85                          0.15   \n",
       "E                                0.57                          0.43   \n",
       "C                                0.39                          0.61   \n",
       "A                                0.51                          0.49   \n",
       "\n",
       "        Quantidade de cidades no grupo  \n",
       "GRUPOS                                  \n",
       "B                                    1  \n",
       "F                                    1  \n",
       "D                                   43  \n",
       "G                                 1392  \n",
       "E                                 1423  \n",
       "C                                 1220  \n",
       "A                                 1427  \n",
       "\n",
       "[7 rows x 29 columns]"
      ]
     },
     "execution_count": 28,
     "metadata": {},
     "output_type": "execute_result"
    }
   ],
   "source": [
    "medias_grupos.sort_values(\"População total, 2000\", ascending=False).rename(index=dicionario_nivel_cidade)"
   ]
  },
  {
   "cell_type": "markdown",
   "metadata": {
    "colab_type": "text",
    "id": "pFS5Ylygz0Di"
   },
   "source": [
    "### Principais parâmetros por grupos:"
   ]
  },
  {
   "cell_type": "code",
   "execution_count": 29,
   "metadata": {
    "colab": {},
    "colab_type": "code",
    "id": "-ZUMKyMm0ZNG"
   },
   "outputs": [],
   "source": [
    "grupos_renomeados = grupos.copy()\n",
    "grupos_renomeados = grupos_renomeados.rename(columns=dicionario_inverso)#; grupos_renomeados"
   ]
  },
  {
   "cell_type": "code",
   "execution_count": 30,
   "metadata": {
    "colab": {},
    "colab_type": "code",
    "id": "uZHFluqLt4ke"
   },
   "outputs": [
    {
     "data": {
      "text/plain": [
       "População rural, 2000                                           58.946722\n",
       "População de 25 anos ou mais de idade, 1991                     57.088063\n",
       "População total, 1991                                           56.945005\n",
       "População de 25 anos ou mais de idade, 2000                     55.926341\n",
       "População total, 2000                                           55.712617\n",
       "População urbana, 2000                                          54.379758\n",
       "População de 65 anos ou mais de idade, 1991                     53.671099\n",
       "População de 65 anos ou mais de idade, 2000                     53.164569\n",
       "TAXA DE CRESCIMENTO: MAIS DE 65 ANOS                            51.129606\n",
       "TAXA DE CRESCIMENTO: MAIS DE 25 ANOS                            44.093978\n",
       "TAXA DE CRESCIMENTO POPULACIONAL EM 10 ANOS                     37.338188\n",
       "Densidade demográfica, 2000                                     12.808966\n",
       "Renda per Capita, 2000                                           4.555501\n",
       "Média de anos de estudo das pessoas de 25 anos ou mais, 2000     2.927455\n",
       "Intensidade da indigência, 2000                                  2.346505\n",
       "Índice de Desenvolvimento Humano Municipal, 2000                 1.696993\n",
       "PROPORÇÃO URBANA DA POPULAÇÃO                                    1.509609\n",
       "Taxa de alfabetização, 2000                                      1.354781\n",
       "Taxa bruta de frequência à escola, 2000                          1.119981\n",
       "Índice de Gini, 2000                                             1.010378\n",
       "Esperança de vida ao nascer, 2000                                0.598928\n",
       "Intensidade da pobreza, 2000                                     0.382419\n",
       "Área (km²)                                                      -0.003610\n",
       "Mortalidade até um ano de idade, 2000                           -0.668334\n",
       "Taxa de fecundidade total, 2000                                 -1.323029\n",
       "Percentual de pessoas de 25 anos ou mais analfabetas, 2000      -1.388135\n",
       "PROPORÇÃO RURAL DA POPULAÇÃO                                    -1.509609\n",
       "Distância à capital (km)                                        -1.551589\n",
       "Name: 2, dtype: float64"
      ]
     },
     "execution_count": 30,
     "metadata": {},
     "output_type": "execute_result"
    }
   ],
   "source": [
    "# Verifica características relevantes de um determinado grupo\n",
    "grupo_para_verificar = 2\n",
    "grupos_renomeados.loc[grupo_para_verificar].sort_values(ascending = False)"
   ]
  },
  {
   "cell_type": "code",
   "execution_count": 33,
   "metadata": {
    "colab": {},
    "colab_type": "code",
    "id": "8-i1zzYM1HBS"
   },
   "outputs": [
    {
     "data": {
      "text/html": [
       "<div>\n",
       "<style scoped>\n",
       "    .dataframe tbody tr th:only-of-type {\n",
       "        vertical-align: middle;\n",
       "    }\n",
       "\n",
       "    .dataframe tbody tr th {\n",
       "        vertical-align: top;\n",
       "    }\n",
       "\n",
       "    .dataframe thead th {\n",
       "        text-align: right;\n",
       "    }\n",
       "</style>\n",
       "<table border=\"1\" class=\"dataframe\">\n",
       "  <thead>\n",
       "    <tr style=\"text-align: right;\">\n",
       "      <th></th>\n",
       "      <th>Código</th>\n",
       "      <th>Município</th>\n",
       "      <th>Área (km²)</th>\n",
       "      <th>Densidade demográfica, 2000</th>\n",
       "      <th>Distância à capital (km)</th>\n",
       "      <th>Esperança de vida ao nascer, 2000</th>\n",
       "      <th>Mortalidade até um ano de idade, 2000</th>\n",
       "      <th>Taxa de fecundidade total, 2000</th>\n",
       "      <th>Percentual de pessoas de 25 anos ou mais analfabetas, 2000</th>\n",
       "      <th>Renda per Capita, 2000</th>\n",
       "      <th>...</th>\n",
       "      <th>População total, 1991</th>\n",
       "      <th>População total, 2000</th>\n",
       "      <th>População urbana, 2000</th>\n",
       "      <th>População rural, 2000</th>\n",
       "      <th>TAXA DE CRESCIMENTO: MAIS DE 25 ANOS</th>\n",
       "      <th>TAXA DE CRESCIMENTO: MAIS DE 65 ANOS</th>\n",
       "      <th>TAXA DE CRESCIMENTO POPULACIONAL EM 10 ANOS</th>\n",
       "      <th>PROPORÇÃO URBANA DA POPULAÇÃO</th>\n",
       "      <th>PROPORÇÃO RURAL DA POPULAÇÃO</th>\n",
       "      <th>GRUPOS</th>\n",
       "    </tr>\n",
       "  </thead>\n",
       "  <tbody>\n",
       "    <tr>\n",
       "      <td>4818</td>\n",
       "      <td>355030</td>\n",
       "      <td>São Paulo (SP)</td>\n",
       "      <td>1528.5</td>\n",
       "      <td>6808.1</td>\n",
       "      <td>0.0</td>\n",
       "      <td>70.66</td>\n",
       "      <td>21.74</td>\n",
       "      <td>1.88</td>\n",
       "      <td>5.62</td>\n",
       "      <td>610.04</td>\n",
       "      <td>...</td>\n",
       "      <td>9649519</td>\n",
       "      <td>10434252</td>\n",
       "      <td>9813187</td>\n",
       "      <td>621065</td>\n",
       "      <td>719728</td>\n",
       "      <td>170900</td>\n",
       "      <td>784733</td>\n",
       "      <td>0.940478</td>\n",
       "      <td>0.059522</td>\n",
       "      <td>2</td>\n",
       "    </tr>\n",
       "  </tbody>\n",
       "</table>\n",
       "<p>1 rows × 31 columns</p>\n",
       "</div>"
      ],
      "text/plain": [
       "      Código       Município  Área (km²)  Densidade demográfica, 2000  \\\n",
       "4818  355030  São Paulo (SP)      1528.5                       6808.1   \n",
       "\n",
       "      Distância à capital (km)  Esperança de vida ao nascer, 2000  \\\n",
       "4818                       0.0                              70.66   \n",
       "\n",
       "      Mortalidade até um ano de idade, 2000  Taxa de fecundidade total, 2000  \\\n",
       "4818                                  21.74                             1.88   \n",
       "\n",
       "      Percentual de pessoas de 25 anos ou mais analfabetas, 2000  \\\n",
       "4818                                               5.62            \n",
       "\n",
       "      Renda per Capita, 2000  ...  População total, 1991  \\\n",
       "4818                  610.04  ...                9649519   \n",
       "\n",
       "      População total, 2000  População urbana, 2000  População rural, 2000  \\\n",
       "4818               10434252                 9813187                 621065   \n",
       "\n",
       "      TAXA DE CRESCIMENTO: MAIS DE 25 ANOS  \\\n",
       "4818                                719728   \n",
       "\n",
       "      TAXA DE CRESCIMENTO: MAIS DE 65 ANOS  \\\n",
       "4818                                170900   \n",
       "\n",
       "      TAXA DE CRESCIMENTO POPULACIONAL EM 10 ANOS  \\\n",
       "4818                                       784733   \n",
       "\n",
       "      PROPORÇÃO URBANA DA POPULAÇÃO  PROPORÇÃO RURAL DA POPULAÇÃO  GRUPOS  \n",
       "4818                       0.940478                      0.059522       2  \n",
       "\n",
       "[1 rows x 31 columns]"
      ]
     },
     "execution_count": 33,
     "metadata": {},
     "output_type": "execute_result"
    }
   ],
   "source": [
    "dados_agrupados[dados_agrupados['GRUPOS'] == grupo_para_verificar] # verifica a tabela por grupo"
   ]
  },
  {
   "cell_type": "markdown",
   "metadata": {
    "colab_type": "text",
    "id": "dcHR_gTMSp6l"
   },
   "source": [
    "### Modelo Preditivo"
   ]
  },
  {
   "cell_type": "code",
   "execution_count": 34,
   "metadata": {
    "colab": {},
    "colab_type": "code",
    "id": "dESphT9-jidY"
   },
   "outputs": [],
   "source": [
    "# Previsão pelo modelo\n",
    "amostra = dados.sample()\n",
    "amostra_drop = func_prepara_para_padronizar(amostra)\n",
    "amostra_padronizada = scaler.transform(amostra_drop)#; amostra_padronizada"
   ]
  },
  {
   "cell_type": "code",
   "execution_count": 35,
   "metadata": {
    "colab": {},
    "colab_type": "code",
    "id": "a2e4Oz4joaeB"
   },
   "outputs": [],
   "source": [
    "#print(modelo.predict(amostra_padronizada))\n",
    "#print(dados_agrupados['GRUPOS'].iloc[amostra_drop.index].values)"
   ]
  },
  {
   "cell_type": "code",
   "execution_count": 36,
   "metadata": {
    "colab": {},
    "colab_type": "code",
    "id": "iLoK4lGch1wM"
   },
   "outputs": [],
   "source": [
    "def probabilidade_de_proximidade(amostra_padronizada):\n",
    "  distancias = modelo.transform(amostra_padronizada)\n",
    "  distancias2 = 1/distancias\n",
    "  soma = distancias2.sum()\n",
    "  proporcoes = distancias2 / soma\n",
    "\n",
    "  grupo = 0\n",
    "  for item in proporcoes[0]:\n",
    "    print(f'grupo {dicionario_nivel_cidade[grupo]} ou {grupo}: {round(item*100,2)}%')\n",
    "    grupo += 1"
   ]
  },
  {
   "cell_type": "code",
   "execution_count": 37,
   "metadata": {
    "colab": {},
    "colab_type": "code",
    "id": "GultonxPh_rk"
   },
   "outputs": [
    {
     "name": "stdout",
     "output_type": "stream",
     "text": [
      "grupo D ou 0: 5.02%\n",
      "grupo E ou 1: 28.18%\n",
      "grupo B ou 2: 0.48%\n",
      "grupo A ou 3: 24.97%\n",
      "grupo G ou 4: 24.81%\n",
      "grupo C ou 5: 15.74%\n",
      "grupo F ou 6: 0.79%\n"
     ]
    }
   ],
   "source": [
    "x = probabilidade_de_proximidade(amostra_padronizada); x"
   ]
  },
  {
   "cell_type": "code",
   "execution_count": null,
   "metadata": {
    "colab": {},
    "colab_type": "code",
    "id": "HN5iMvNyOBJ6"
   },
   "outputs": [],
   "source": []
  }
 ],
 "metadata": {
  "accelerator": "GPU",
  "colab": {
   "collapsed_sections": [
    "8QKSkqiugYKA"
   ],
   "name": "Principal - ibope_project... - more clusters.ipynb",
   "provenance": []
  },
  "kernelspec": {
   "display_name": "Python 3",
   "language": "python",
   "name": "python3"
  },
  "language_info": {
   "codemirror_mode": {
    "name": "ipython",
    "version": 3
   },
   "file_extension": ".py",
   "mimetype": "text/x-python",
   "name": "python",
   "nbconvert_exporter": "python",
   "pygments_lexer": "ipython3",
   "version": "3.7.4"
  }
 },
 "nbformat": 4,
 "nbformat_minor": 1
}
